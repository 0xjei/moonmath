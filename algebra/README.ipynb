{
 "cells": [
  {
   "cell_type": "markdown",
   "metadata": {},
   "source": [
    "# Chapter 4: Algebra\n",
    "\n",
    "Topics in this chapter:\n",
    "\n",
    "- Commutative Groups\n",
    "- Commutative Rings\n",
    "- Fields\n",
    "- Projective Planes\n",
    "\n",
    "## Exercise 33\n",
    "\n",
    "> Let $\\mathbb{Z}_5^\\ast$ be the set of all remainder classes from $\\mathbb{Z}_5$ without the class 0, meaning that $\\mathbb{Z}_5^\\ast = \\mathbb{Z}_5 \\setminus \\{0\\}$. Show that $(\\mathbb{Z}_5, \\cdot)$ is a commutative group (aka. Abelian Group).\n",
    "\n",
    "The map $\\cdot$ (multiplication) of all elements in $\\mathbb{Z}_5$ have the following properties:\n",
    "\n",
    "- Closed due to multiplication\n",
    "- Associative due to multiplication\n",
    "- Commutative due to multiplication\n",
    "- Identity is $1 \\in \\mathbb{Z}_5$\n",
    "- Inverse exists for every element, as all elements are co-prime to $5$\n",
    "\n",
    "With all these properties, the group is commutative. We can also see this from the table at example 16.\n",
    "\n",
    "## Exercise 34\n",
    "\n",
    "> Generalizing the previous exercise, consider $n$ and let $\\mathbb{Z}_n^\\ast$ be the set of all remainder classes from $\\mathbb{Z}_n$ without the class 0, i.e. $\\mathbb{Z}_n^\\ast = \\{1, 2, \\ldots, n - 1\\}$. Provide a counter-example to show that $(\\mathbb{Z}_n^\\ast, \\cdot)$ is not a commutative group in general.\n",
    ">\n",
    "> Find a condition such that $(\\mathbb{Z}_n^\\ast, \\cdot)$ is a commutative group, compute the neutral element, give a closed form for the inverse of any element and prove the commutative group axioms.\n",
    "\n",
    "In general, $(\\mathbb{Z}_n^\\ast, \\cdot)$ is a commutative group when $n$ is a prime number. In these groups, neutral element is always 1 and the inverse of any element can be given by Fermat's Little Theorem, which states:\n",
    "\n",
    "$$\n",
    "a^{n} \\equiv a \\pmod{n}\n",
    "$$\n",
    "\n",
    "When $a$ and $n$ are coprime, which is true in this case because $n$ is a prime, this congruence implies:\n",
    "\n",
    "$$\n",
    "a^{n-2} \\equiv a^{-1} \\pmod{n}\n",
    "$$\n",
    "\n",
    "## Exercise 35\n",
    "\n",
    "> Let $n \\in \\mathbb{N}$ with $n \\geq 2$ be some moodulus. What is the order of the remainder class group $(\\mathbb{Z}_n, +)$?\n",
    "\n",
    "Since there are $n$ different remainders possible for some integer division by $n$, the remainder class group has order $n$.\n",
    "\n",
    "## Exercise 36\n",
    "\n",
    "> Consider the group $(\\mathbb{Z}_6, +)$ and show that 5 is a generator, while 2 is not a generator.\n",
    "\n",
    "If 5 is a generator, then multiplications (i.e. multiple additions) of it should give the group members. Let us say that $(6 - 1)k$ results in group members for $k = 1, 2, ..., 6$. Indeed we have $-1, -2, ..., -6$ for the results, which are $5, 4, ..., 0$ in mod 6, giving out all elements in the group.\n"
   ]
  },
  {
   "cell_type": "code",
   "execution_count": 23,
   "metadata": {},
   "outputs": [
    {
     "data": {
      "text/plain": [
       "[5, 4, 3, 2, 1, 0]"
      ]
     },
     "execution_count": 23,
     "metadata": {},
     "output_type": "execute_result"
    }
   ],
   "source": [
    "list(map(lambda k: (6 - 1) * k % 6, range(1, 7)))"
   ]
  },
  {
   "cell_type": "markdown",
   "metadata": {},
   "source": [
    "When we consider the same logic for 2, we think of $(6 - 4)k$, but notice that for $k = 3$ we get $18 - 12 \\equiv 0 \\pmod{6}$. This means that $k=4$ will result in same with $k=1$, so we can't generate all group members.\n"
   ]
  },
  {
   "cell_type": "code",
   "execution_count": 24,
   "metadata": {},
   "outputs": [
    {
     "data": {
      "text/plain": [
       "[2, 4, 0, 2, 4, 0]"
      ]
     },
     "execution_count": 24,
     "metadata": {},
     "output_type": "execute_result"
    }
   ],
   "source": [
    "list(map(lambda k: (6 - 4) * k % 6, range(1, 7)))"
   ]
  },
  {
   "cell_type": "markdown",
   "metadata": {},
   "source": [
    "## Exercise 37 ✨\n",
    "\n",
    "> Let $p \\in \\mathbb{P}$ be prime number and show that $(\\mathbb{Z}_p^\\ast, \\cdot)$ is cyclic, i.e. it has a not necessarily unique single element that is able to generate the entire group.\n",
    "\n",
    "I couldn't prove this myself, here is a [proof from YouTube](https://www.youtube.com/watch?v=EiM7U-WT40Q) that I saw in ZKHACK MoonMath study group. There is also this [question on StackExchange](https://math.stackexchange.com/questions/290427/is-mathbb-z-p-1-2-3-p-1-a-cyclic-group).\n",
    "\n",
    "We must first recall **Euler's Phi (or Totient) Function**: $\\phi(n)$ is the number of integers in $\\{1,2,3, \\ldots ,n\\}$ which are relatively prime to $n$. You can use `euler_phi` in Sage to compute the Euler Totient Function.\n",
    "\n",
    "Now, define a function $N_p(d)$ that counts the number of generators that have order $d$ in $\\mathbb{Z}_p^\\ast$. For example, consider elements in $\\mathbb{Z}_5^\\ast = \\{1, 2, 3, 4\\}$ which for this function result in:\n",
    "\n",
    "- $N_5(1) = 1$ due to element $\\{1\\}$\n",
    "- $N_5(2) = 1$ due to element $\\{4\\}$\n",
    "- $N_5(3) = 0$\n",
    "- $N_5(4) = 2$ due to elements $\\{2, 3\\}$, which are generators because 4 is the order of the group!\n",
    "\n",
    "We will make use of the following three facts, which the YouTube lecture apparently covered before:\n",
    "\n",
    "$$\n",
    "\\sum_{d \\mid (p-1)}N_p(d) = p - 1\n",
    "$$\n",
    "\n",
    "We can see this in our example where $4 = 1 + 1 + 2$. Also notice that we are choosing $d$ that divides the order of our prime group $p-1$. Our next fact is:\n",
    "\n",
    "$$\n",
    "N_p(d) \\leq \\phi(d)\n",
    "$$\n",
    "\n",
    "This should make sense, because $\\phi(d)$ can be at most $p-1$ for prime $p = d$, and $N_p(d)$ can be at most $p-1$ where each element in the group is a generator. Finally,\n",
    "\n",
    "$$\n",
    "\\sum_{d \\mid n}\\phi(d) = n\n",
    "$$\n",
    "\n",
    "The last fact is not really obvious to me, but here is some [discussion and proofs](https://math.stackexchange.com/questions/737422/euler-totient-function-sum-of-divisors-theorem-2-2-apostol) about it.\n",
    "\n",
    "Now, due to the first fact we have:\n",
    "\n",
    "$$\n",
    "p - 1 = \\sum_{d \\mid (p-1)}N_p(d)\n",
    "$$\n",
    "\n",
    "Due to the second fact (applied to every term in the sum) we have:\n",
    "\n",
    "$$\n",
    "p - 1 = \\sum_{d \\mid (p-1)}N_p(d) \\leq \\sum_{d \\mid (p-1)}\\phi(d)\n",
    "$$\n",
    "\n",
    "Finally, due to the third fact we have\n",
    "\n",
    "$$\n",
    "p - 1 = \\sum_{d \\mid (p-1)}N_p(d) \\leq \\sum_{d \\mid (p-1)}\\phi(d) = p - 1\n",
    "$$\n",
    "\n",
    "Notice how $p-1$ sandwiches this inequality from both sides, meaning that the two sums must be equal. This means that each element in the left sum must match the one on the right sum. In particular:\n",
    "\n",
    "$$\n",
    "N_p(p-1) = \\phi(p-1)\n",
    "$$\n",
    "\n",
    "Euler's Totient Function is a positive function, meaning that it can never be equal to 0. So, $N_p(p-1)$ must also be positive, meaning that for any prime $p$ there is always at least 1 generator that can generate the group.\n",
    "\n",
    "In fact, here we actually showed that there are $\\phi(p-1)$ many generators that can generate the group for prime $p$. Indeed looking at our example of $\\mathbb{Z}_5^\\ast$ with order $4$, there were 2 generators $\\{2, 3\\}$ and $\\phi(4) = 2$.\n",
    "\n",
    "## Exercise 38\n",
    "\n",
    "> Let $(\\mathbb{G}, +)$ be a finite cyclic group of order $n$. Consider \"cyclic group exponentiation\" and define its analog for groups in additive notation.\n",
    "\n",
    "Cyclic group exponentiation made use of \"square-and-multiply\".\n"
   ]
  },
  {
   "cell_type": "code",
   "execution_count": 25,
   "metadata": {},
   "outputs": [],
   "source": [
    "# g^x (mod n)\n",
    "def cge(g: int, x: int, n: int) -> int:\n",
    "    h = g\n",
    "    x >>= 1\n",
    "    while x > 0:\n",
    "        h = (h * h) % n  # square\n",
    "        if x & 1 == 1:\n",
    "            h = (h * g) % n  # multiply\n",
    "        x >>= 1\n",
    "    return h"
   ]
  },
  {
   "cell_type": "markdown",
   "metadata": {},
   "source": [
    "In efficient scalar multiplication, we will essentially use it's equivalent operations in additive groups, that is, \"double-and-add\". We call this \"efficient scalar multiplication\".\n"
   ]
  },
  {
   "cell_type": "code",
   "execution_count": 26,
   "metadata": {},
   "outputs": [],
   "source": [
    "def esm(g: int, x: int, n: int) -> int:\n",
    "    h = g\n",
    "    x >>= 1\n",
    "    while x > 0:\n",
    "        h = (h + h) % n  # double\n",
    "        if x & 1 == 1:\n",
    "            h = (h + g) % n  # add\n",
    "        x >>= 1\n",
    "    return h"
   ]
  },
  {
   "cell_type": "markdown",
   "metadata": {},
   "source": [
    "## Exercise 39\n",
    "\n",
    "> Consider example 40, and show that $\\mathbb{Z}_5^*[2]$ is a commutative group.\n",
    "\n",
    "The group consists of two elements: $\\{1, 4\\}$.\n",
    "\n",
    "```c\n",
    "| * | 1 | 4 |\n",
    "| 1 | 1 | 4 |\n",
    "| 4 | 4 | 1 |\n",
    "```\n",
    "\n",
    "Looking at the table, we see that all rules of a commutative group hold.\n",
    "\n",
    "## Exercise 40\n",
    "\n",
    "> Consider the finite cyclic group $(\\mathbb{Z}_6, +)$. Describe all subgroups of this group. Then, identify its large prime order subgroup, define its cofactor clearing map and apply that map to all elements of $\\mathbb{Z}_6$.\n",
    "\n",
    "The fundamental theorem of finite cyclic groups say that the factorization of the order of our group should give the order of its subgroups. Let us do that:\n"
   ]
  },
  {
   "cell_type": "code",
   "execution_count": 27,
   "metadata": {},
   "outputs": [],
   "source": [
    "from sage.all import Integers, factor\n",
    "\n",
    "Z6 = Integers(6)\n",
    "order = Z6.order()\n",
    "\n",
    "factorization = list(map(lambda x: x[0], factor(order)))\n",
    "subgroupOrders = [1, order]  # add the trivial group and itself too\n",
    "subgroupOrders.extend(factorization)\n",
    "subgroupOrders = sorted(subgroupOrders)"
   ]
  },
  {
   "cell_type": "markdown",
   "metadata": {},
   "source": [
    "We can do cofactor clearing for each subgroup to find the elements in it:\n"
   ]
  },
  {
   "cell_type": "code",
   "execution_count": 28,
   "metadata": {},
   "outputs": [
    {
     "name": "stdout",
     "output_type": "stream",
     "text": [
      "Z6[1]  :{0}\n",
      "Z6[2]  :{0, 3}\n",
      "Z6[3]  :{0, 2, 4}\n",
      "Z6[6]  :{0, 1, 2, 3, 4, 5}\n"
     ]
    }
   ],
   "source": [
    "for subgroupOrder in subgroupOrders:\n",
    "    cf = order // subgroupOrder  # find cofactor\n",
    "    Z6_f_elems = []\n",
    "    for e in range(0, order):\n",
    "        Z6_f_elems.append(Z6(e) * cf)\n",
    "    Z6_f_elems = set(Z6_f_elems)\n",
    "    print(\"Z6[{}]  :{}\".format(subgroupOrder, Z6_f_elems))"
   ]
  },
  {
   "cell_type": "markdown",
   "metadata": {},
   "source": [
    "The largest prime order here is that of `Z6[3]` with elements `{0, 2, 4}`. Also notice that for the cofactor clearing we did multiplication, not exponentiation; the latter is done when the group is multiplicative, but the former is done when the group is additive!\n",
    "\n",
    "## Exercise 41 ✨\n",
    "\n",
    "> Let $(\\mathbb{Z}_p^\\ast, \\cdot)$ be a cyclic group. Show that for $p \\geq 5$ not every element of $\\mathbb{Z}_p^\\ast$ is a generator of $\\mathbb{Z}_p^\\ast$.\n",
    "\n",
    "A trivial answer is that $1 \\in \\mathbb{Z}_p^\\ast$ but does not generate the group. Other than that, for larger groups for prime $p$, their order will be $p-1$. This is an even number, indicating that all these prime order groups have a subgroup of order 2.\n",
    "\n",
    "So, there will always be an element other than 1 that generates the subgroup of order 2, which obviously can't generate the group itself. The only expection is when $p=3$, since that group has order 2, hence the reason the question asks for $p \\geq 5$ for us.\n",
    "\n",
    "## Exercise 42 ✨\n",
    "\n",
    "> **Arithmetic Laws for Pairing Maps:** Let $\\mathbb{G}_1, \\mathbb{G}_2$ and $\\mathbb{G}_3$ be finite cyclic groups of the same order $n$, and let $e(\\cdot, \\cdot) = \\mathbb{G}_1 \\times \\mathbb{G}_2 \\to \\mathbb{G}_3$ be a pairing map.\n",
    ">\n",
    "> Show that for a given $g_1 \\in \\mathbb{G}_1, g_2 \\in \\mathbb{G}_2$ and all $a, b \\in \\mathbb{Z}_n$ the following identity holds:\n",
    ">\n",
    "> $$\n",
    "> e(g_1^a, g_2^b) = e(g_1, g_2)^{a \\cdot b}\n",
    "> $$\n",
    "\n",
    "The bilinearity property tells us that:\n",
    "\n",
    "$$\n",
    "e(g_1 \\cdot g_1', g_2) = e(g_1, g_2) \\cdot e(g_1', g_2)\n",
    "$$\n",
    "\n",
    "If $g_1' = g_1$ we get:\n",
    "\n",
    "$$\n",
    "e(g_1^2, g_2) = e(g_1, g_2) \\cdot e(g_1, g_2)\n",
    "$$\n",
    "\n",
    "In fact, this can be generalized:\n",
    "\n",
    "$$\n",
    "e(g_1^a, g_2) = \\underbrace{e(g_1, g_2) \\cdot e(g_1, g_2) \\cdot \\ldots \\cdot e(g_1, g_2)}_{a \\text{ times}}\n",
    "$$\n",
    "\n",
    "We can do the same for $g_2$ as well due to the other identity:\n",
    "\n",
    "$$\n",
    "e(g_1^a, g_2^b) = \\underbrace{e(g_1^a, g_2) \\cdot e(g_1^a, g_2) \\cdot \\ldots \\cdot e(g_1^a, g_2)}_{b \\text{ times}}\n",
    "$$\n",
    "\n",
    "Since each $e(g_1^a, g_2)$ has $e(g_1, g_2)$ in it $a$ times, and we have $b$ of them, we get a total of $a \\cdot b$ many terms thus proving that:\n",
    "\n",
    "$$\n",
    "e(g_1^a, g_2^b) = e(g_1, g_2)^{a \\cdot b}\n",
    "$$\n",
    "\n",
    "## Exercise 43\n",
    "\n",
    "> Consider the remainder class groups $(\\mathbb{Z}_n, +)$ for some modulus $n$. Show that the following map is a pairing map:\n",
    ">\n",
    "> $$\n",
    "> e(\\cdot, \\cdot) : \\mathbb{Z}_n \\times \\mathbb{Z}_n \\to \\mathbb{Z}_n\n",
    "> $$\n",
    ">\n",
    "> $$\n",
    "> (a, b) \\mapsto a \\cdot b\n",
    "> $$\n",
    "\n",
    "In example 41, we already saw that the following is a non-degenerate pairing:\n",
    "\n",
    "$$\n",
    "e(\\cdot, \\cdot) : \\mathbb{Z} \\times \\mathbb{Z} \\to \\mathbb{Z}\n",
    "$$\n",
    "\n",
    "It is non-degenerate because there is only one way to result in 0 here, that is one of the inputs must be 0. Things are different in mod $n$ though!\n",
    "\n",
    "If $n$ is a composite number, the inputs can be the factors of it and it will result in the netural element in mod $n$, which makes the pairing not non-degenerate.\n",
    "\n",
    "The bilinearity property holds due to distribute law of integers mod $n$, similar to the $\\mathbb{Z}$ example.\n",
    "\n",
    "## Exercise 44\n",
    "\n",
    "> Consider $\\mathbb{Z}_{13}^\\ast$. Choose a set of 3 generators from this group, define it's associated Pedersen Hash Function and compute the Pedersen hash of $(3, 7, 11) \\in \\mathbb{Z}_{12}$.\n",
    "\n",
    "Generators of $\\mathbb{Z}_{13}^\\ast$ are $\\{2, 6, 7, 11\\}$. Let's choose $2, 6, 7$ and define our Pedersen Hash Function as:\n",
    "\n",
    "$$\n",
    "H(x_1, x_2, x_3) = 2^{x_1}6^{x_2}11^{x_3} \\pmod{13}\n",
    "$$\n",
    "\n",
    "Writing the generic code for it:\n"
   ]
  },
  {
   "cell_type": "code",
   "execution_count": 29,
   "metadata": {},
   "outputs": [
    {
     "name": "stdout",
     "output_type": "stream",
     "text": [
      "11\n"
     ]
    }
   ],
   "source": [
    "def pedersen(xs, gs, N):\n",
    "    assert len(xs) == len(gs)\n",
    "\n",
    "    Z = Integers(N)\n",
    "    ans = 1\n",
    "    for i in range(len(gs)):\n",
    "        ans *= Z(gs[i]) ** xs[i]\n",
    "\n",
    "    return ans\n",
    "\n",
    "print(pedersen([3, 7, 11], [2, 6, 11], 13))"
   ]
  },
  {
   "cell_type": "markdown",
   "metadata": {},
   "source": [
    "We then find `pedersen([3, 7, 11], [2, 6, 11], 13)` to be `11`.\n",
    "\n",
    "## Exercise 45\n",
    "\n",
    "> Consider the Pedersen Hash and the SHA256 hash function. Implement the related hash-to-group function in Sage.\n",
    "\n",
    "Here is the code for this:\n"
   ]
  },
  {
   "cell_type": "code",
   "execution_count": 30,
   "metadata": {},
   "outputs": [],
   "source": [
    "from sage.all import ZZ\n",
    "from hashlib import sha256\n",
    "\n",
    "\n",
    "# Simple SHA256 to integer mapping\n",
    "def sha256_int(s):\n",
    "    # create hasher\n",
    "    hasher = sha256(s.encode())\n",
    "\n",
    "    # hash as hex string\n",
    "    hexdigest = hasher.hexdigest()\n",
    "\n",
    "    # map to an integer\n",
    "    d = ZZ(hexdigest, 16)\n",
    "\n",
    "    return d\n",
    "\n",
    "\n",
    "# s: input, gs: generators, N: modulus\n",
    "def sha256_pedersen(s, gs, N):\n",
    "    # sha256 hash-to-integer\n",
    "    z = sha256_int(s)\n",
    "\n",
    "    # get binary digits\n",
    "    z_bin = z.digits(base=2, padto=256)\n",
    "\n",
    "    # multiply with powers of the generators\n",
    "    Z = Integers(N)\n",
    "    ans = 1\n",
    "    for i in range(len(gs)):\n",
    "        ans *= Z(gs[i]) ** z_bin[i]\n",
    "\n",
    "    return ans"
   ]
  },
  {
   "cell_type": "markdown",
   "metadata": {},
   "source": [
    "## Exercise 46\n",
    "\n",
    "> Consider $\\mathbb{Z}_{13}^\\ast$ from example 34 and the parameter $k=3$. Choose a generator of $\\mathbb{Z}_{13}^\\ast$, a seed, and instantiate a member of the family given in equation (4.27) for that seed. Evaluate that member on the binary string $\\langle 1, 0, 1 \\rangle$.\n",
    "\n",
    "TODO: (is $k$ really 3 here? in that case, the input must be 4 bits long.)\n",
    "\n",
    "## Exercise 47\n",
    "\n",
    "> Consider the ring $(\\mathbb{Z}_5, +, \\cdot)$. Show that it is a field, then:\n",
    ">\n",
    "> - Find it's characteristic.\n",
    "> - Show that $ax = b$ has only a single solution $x \\in \\mathbb{Z}_5$ for any given $a, b \\in \\mathbb{Z}_5^*$\n",
    "\n",
    "We know that $(\\mathbb{Z}_5, +)$ is a commutative group with neutral element 0, and we also know $(\\mathbb{Z}_5 \\setminus \\{0\\}, \\cdot)$ is a commutative group (i.e. the multiplicative group $\\mathbb{Z}_5^*$) with neutral element 1. Distributivity holds for all elements in the field too.\n",
    "\n",
    "- It's characteristic is 5, because adding 1 to itself 5 times result in 0 modulo 5.\n",
    "\n",
    "- In the equation, $a$ has a unique inverse and therefore $ba^{-1}$ is a unique number for all $a, b \\in \\mathbb{Z}_5^*$. Since $x = ba^{-1}$ that means there is only a single (unique) solution.\n",
    "\n",
    "## Exercise 48\n",
    "\n",
    "> Consider the ring $(\\mathbb{Z}_6, +, \\cdot)$. Show that it is not a field.\n",
    "\n",
    "Not every element in $\\mathbb{Z}_6^*$ have an inverse, therefore this ring is not a field.\n",
    "\n",
    "## Exercise 49\n",
    "\n",
    "> Construct the addition and multiplication table of the prime field $\\mathbb{F}_3$\n",
    "\n",
    "Sage has built-in methods for both of these functions.\n",
    "\n",
    "```py\n",
    "# GF(3).addition_table('elements')\n",
    "+  0 1 2\n",
    " +------\n",
    "0| 0 1 2\n",
    "1| 1 2 0\n",
    "2| 2 0 1\n",
    "\n",
    "# GF(3).multiplication_table('elements')\n",
    "*  0 1 2\n",
    " +------\n",
    "0| 0 0 0\n",
    "1| 0 1 2\n",
    "2| 0 2 1\n",
    "```\n",
    "\n",
    "## Exercise 50\n",
    "\n",
    "> Construct the addition and multiplication table of the prime field $\\mathbb{F}_{13}$\n",
    "\n",
    "Again we can use the built-in methods.\n",
    "\n",
    "```py\n",
    "# GF(13).addition_table('elements')\n",
    " +   0  1  2  3  4  5  6  7  8  9 10 11 12\n",
    "  +---------------------------------------\n",
    " 0|  0  1  2  3  4  5  6  7  8  9 10 11 12\n",
    " 1|  1  2  3  4  5  6  7  8  9 10 11 12  0\n",
    " 2|  2  3  4  5  6  7  8  9 10 11 12  0  1\n",
    " 3|  3  4  5  6  7  8  9 10 11 12  0  1  2\n",
    " 4|  4  5  6  7  8  9 10 11 12  0  1  2  3\n",
    " 5|  5  6  7  8  9 10 11 12  0  1  2  3  4\n",
    " 6|  6  7  8  9 10 11 12  0  1  2  3  4  5\n",
    " 7|  7  8  9 10 11 12  0  1  2  3  4  5  6\n",
    " 8|  8  9 10 11 12  0  1  2  3  4  5  6  7\n",
    " 9|  9 10 11 12  0  1  2  3  4  5  6  7  8\n",
    "10| 10 11 12  0  1  2  3  4  5  6  7  8  9\n",
    "11| 11 12  0  1  2  3  4  5  6  7  8  9 10\n",
    "12| 12  0  1  2  3  4  5  6  7  8  9 10 11\n",
    "\n",
    "# GF(13).multiplication_table('elements')\n",
    " *   0  1  2  3  4  5  6  7  8  9 10 11 12\n",
    "  +---------------------------------------\n",
    " 0|  0  0  0  0  0  0  0  0  0  0  0  0  0\n",
    " 1|  0  1  2  3  4  5  6  7  8  9 10 11 12\n",
    " 2|  0  2  4  6  8 10 12  1  3  5  7  9 11\n",
    " 3|  0  3  6  9 12  2  5  8 11  1  4  7 10\n",
    " 4|  0  4  8 12  3  7 11  2  6 10  1  5  9\n",
    " 5|  0  5 10  2  7 12  4  9  1  6 11  3  8\n",
    " 6|  0  6 12  5 11  4 10  3  9  2  8  1  7\n",
    " 7|  0  7  1  8  2  9  3 10  4 11  5 12  6\n",
    " 8|  0  8  3 11  6  1  9  4 12  7  2 10  5\n",
    " 9|  0  9  5  1 10  6  2 11  7  3 12  8  4\n",
    "10|  0 10  7  4  1 11  8  5  2 12  9  6  3\n",
    "11|  0 11  9  7  5  3  1 12 10  8  6  4  2\n",
    "12|  0 12 11 10  9  8  7  6  5  4  3  2  1\n",
    "```\n",
    "\n",
    "## Exercise 51\n",
    "\n",
    "> Consider the prime field $\\mathbb{F}_{13}$. Find the set of all pairs $(x, y) \\in \\mathbb{F}_{13} \\times \\mathbb{F}_{13}$ that satisfy the following equation:\n",
    ">\n",
    "> $$\n",
    "> x^2 + y^2 = 1 + 7 \\cdot x^2 \\cdot y^2\n",
    "> $$\n",
    "\n",
    "We can use Sage for this.\n"
   ]
  },
  {
   "cell_type": "code",
   "execution_count": 31,
   "metadata": {},
   "outputs": [
    {
     "name": "stdout",
     "output_type": "stream",
     "text": [
      "[(0, 1), (0, 12), (1, 0), (2, 4), (2, 9), (4, 2), (4, 11), (5, 6), (5, 7), (6, 5), (6, 8), (7, 5), (7, 8), (8, 6), (8, 7), (9, 2), (9, 11), (11, 4), (11, 9), (12, 0)]\n"
     ]
    }
   ],
   "source": [
    "from sage.all import GF\n",
    "\n",
    "F13 = GF(13)\n",
    "pairs = []\n",
    "elems = list(map(lambda n: F13(n), range(0, 13)))\n",
    "for x in elems:\n",
    "    for y in elems:\n",
    "        lhs = x * x + y * y\n",
    "        rhs = 1 + 7 * x * x * y * y\n",
    "        if lhs == rhs:\n",
    "            pairs.append((x, y))\n",
    "print(pairs)"
   ]
  },
  {
   "cell_type": "markdown",
   "metadata": {},
   "source": [
    "Notice that if $(a, b)$ is a valid pair, so is $(b, a)$ due to commutativity in the equation.\n",
    "\n",
    "## Exercise 52\n",
    "\n",
    "> Consider the prime field $\\mathbb{F}_{13}$. Compute the Legendre symbol $(\\frac{x}{13})$ and the set of roots $\\sqrt{x}$ for all elements $x \\in \\mathbb{F}_{13}$\n",
    "\n",
    "Let's write the code for Legendre symbol:\n"
   ]
  },
  {
   "cell_type": "code",
   "execution_count": 32,
   "metadata": {},
   "outputs": [],
   "source": [
    "def legendre_symbol(y, p):\n",
    "    assert p % 2 == 1\n",
    "    l = y ** ((p - 1) // 2) % p\n",
    "    return -1 if l == p - 1 else l"
   ]
  },
  {
   "cell_type": "markdown",
   "metadata": {},
   "source": [
    "Now, let's find the Legendre symbol & square root for each element:\n"
   ]
  },
  {
   "cell_type": "code",
   "execution_count": 33,
   "metadata": {},
   "outputs": [
    {
     "name": "stdout",
     "output_type": "stream",
     "text": [
      "N = 0\tSymbol: 0\tSqrts: [0]\n",
      "N = 1\tSymbol: 1\tSqrts: [1, 12]\n",
      "N = 2\tSymbol: -1\tSqrts: []\n",
      "N = 3\tSymbol: 1\tSqrts: [4, 9]\n",
      "N = 4\tSymbol: 1\tSqrts: [2, 11]\n",
      "N = 5\tSymbol: -1\tSqrts: []\n",
      "N = 6\tSymbol: -1\tSqrts: []\n",
      "N = 7\tSymbol: -1\tSqrts: []\n",
      "N = 8\tSymbol: -1\tSqrts: []\n",
      "N = 9\tSymbol: 1\tSqrts: [3, 10]\n",
      "N = 10\tSymbol: 1\tSqrts: [6, 7]\n",
      "N = 11\tSymbol: -1\tSqrts: []\n",
      "N = 12\tSymbol: 1\tSqrts: [5, 8]\n"
     ]
    }
   ],
   "source": [
    "F13, legendres, sqrts = GF(13), {}, {}\n",
    "for e in F13:\n",
    "    sqrts[e] = []\n",
    "for e in F13:\n",
    "    legendres[e] = legendre_symbol(e, 13)\n",
    "    sqrts[e * e].append(e)\n",
    "\n",
    "for e in F13:\n",
    "    print(\"N = {}\\tSymbol: {}\\tSqrts: {}\".format(e, legendres[e], sqrts[e]))"
   ]
  },
  {
   "cell_type": "markdown",
   "metadata": {},
   "source": [
    "As observed, we have two square roots (positive and negative) for each element that has Legendre symbol equal to 1.\n",
    "\n",
    "## Exercise 53\n",
    "\n",
    "> Consider the extension field $\\mathbb{F}_{3^2}$ from the previous example and find all pairs of elements $(x, y) \\in \\mathbb{F}_{3^2}$ for which the following equation holds:\n",
    ">\n",
    "> $$\n",
    "> y^2 = x^3 + 4\n",
    "> $$\n",
    "\n",
    "I'm not sure how to solve this one pen-and-paper, but here it is using Sage:\n"
   ]
  },
  {
   "cell_type": "code",
   "execution_count": 34,
   "metadata": {},
   "outputs": [
    {
     "name": "stdout",
     "output_type": "stream",
     "text": [
      "[(0, 2), (0, 1), (x + 2, 2*x + 2), (x + 2, x + 1), (2*x + 2, x + 2), (2*x + 2, 2*x + 1), (2, 0), (1, x), (1, 2*x)]\n"
     ]
    }
   ],
   "source": [
    "from sage.all import GF\n",
    "\n",
    "F3_2 = GF(3**2, name=\"x\", modulus=GF(3)[\"x\"]([1, 0, 1]))\n",
    "solutions = []\n",
    "for x in F3_2:\n",
    "    for y in F3_2:\n",
    "        if y**2 == x**3 + 4:\n",
    "            solutions.append((x, y))\n",
    "print(solutions)"
   ]
  },
  {
   "cell_type": "markdown",
   "metadata": {},
   "source": [
    "## Exercise 54\n",
    "\n",
    "> Show that the polynomial $Q = x^2 + x + 2$ from $\\mathbb{F}_3[x]$ is irreducible. Construct the multiplication table of $\\mathbb{F}_{3^2}$ with respect to $Q$ polynomial.\n",
    "\n",
    "Using Sage:\n"
   ]
  },
  {
   "cell_type": "code",
   "execution_count": 35,
   "metadata": {},
   "outputs": [],
   "source": [
    "F3 = GF(3)\n",
    "F3x = F3[\"x\"]\n",
    "Q = F3x([2, 1, 1])  # x^2 + x + 2"
   ]
  },
  {
   "cell_type": "markdown",
   "metadata": {},
   "source": [
    "To check if it is irreducible, we will evaluate it over all elements in the field and see if the result is zero or not. If there is a zero, it means there is a factor for that element, i.e. if $Q(a) = 0$ then there is a factor $(x - a)$, meaning that it is reducible.\n"
   ]
  },
  {
   "cell_type": "code",
   "execution_count": 36,
   "metadata": {},
   "outputs": [],
   "source": [
    "is_irreducible = True\n",
    "for elem in F3:\n",
    "    if Q(elem) == 0:\n",
    "        is_irreducible = False\n",
    "\n",
    "# compare with Sage's function for this\n",
    "assert is_irreducible == Q.is_irreducible()"
   ]
  },
  {
   "cell_type": "markdown",
   "metadata": {},
   "source": [
    "Finally, we print the multiplication table:"
   ]
  },
  {
   "cell_type": "code",
   "execution_count": 37,
   "metadata": {},
   "outputs": [
    {
     "name": "stdout",
     "output_type": "stream",
     "text": [
      "      *        0       1       2       x   x + 1   x + 2     2*x 2*x + 1 2*x + 2\n",
      "       +------------------------------------------------------------------------\n",
      "      0|       0       0       0       0       0       0       0       0       0\n",
      "      1|       0       1       2       x   x + 1   x + 2     2*x 2*x + 1 2*x + 2\n",
      "      2|       0       2       1     2*x 2*x + 2 2*x + 1       x   x + 2   x + 1\n",
      "      x|       0       x     2*x 2*x + 1       1   x + 1   x + 2 2*x + 2       2\n",
      "  x + 1|       0   x + 1 2*x + 2       1   x + 2     2*x       2       x 2*x + 1\n",
      "  x + 2|       0   x + 2 2*x + 1   x + 1     2*x       2 2*x + 2       1       x\n",
      "    2*x|       0     2*x       x   x + 2       2 2*x + 2 2*x + 1   x + 1       1\n",
      "2*x + 1|       0 2*x + 1   x + 2 2*x + 2       x       1   x + 1       2     2*x\n",
      "2*x + 2|       0 2*x + 2   x + 1       2 2*x + 1       x       1     2*x   x + 2\n",
      "\n"
     ]
    }
   ],
   "source": [
    "F3_2 = GF(3 ** 2, name=\"x\", modulus=Q)\n",
    "print(F3_2.multiplication_table('elements'))"
   ]
  },
  {
   "cell_type": "markdown",
   "metadata": {},
   "source": [
    "## Exercise 55\n",
    "\n",
    "> Show that the polynomial $P = t^3 + t + 1$ from $\\mathbb{F}_5[x]$ is irreducible. Then, consider the extension field $\\mathbb{F}_{5^3}$ defined relative to $P$. Compute the multiplicative inverse of $(2t^2 + 4) \\in \\mathbb{F}_{5^3}$ using Extended Euclidean Algorithm. Then, find all $x \\in \\mathbb{F}_{5^3}$ that solve the following equation:\n",
    ">\n",
    "> $$\n",
    "> (2t^2 + 4)(x - (t^2 + 4t + 2)) = (2t + 3)\n",
    "> $$\n",
    "\n",
    "To show irreducibility, I cant see any other way than showing it evaluates to non-zero on all points. Indeed, $P(0) = 1, P(1) = 3, P(2) = 1, P(3) = 1, P(4) = 4$ so $P$ is irreducible.\n",
    "\n",
    "I've used Sage to find the inverse:"
   ]
  },
  {
   "cell_type": "code",
   "execution_count": 38,
   "metadata": {},
   "outputs": [
    {
     "name": "stdout",
     "output_type": "stream",
     "text": [
      "(1, 4*t^2 + 4*t + 1, 0)\n"
     ]
    }
   ],
   "source": [
    "from sage.all import GF, xgcd\n",
    "\n",
    "F5 = GF(5)\n",
    "F5x = F5['t']\n",
    "P = F5x([1, 1, 0, 1])\n",
    "\n",
    "F5_3 = GF(5 ** 3, name=\"t\", modulus=P)\n",
    "\n",
    "print(xgcd(F5_3([4, 0, 2]), P))"
   ]
  },
  {
   "cell_type": "markdown",
   "metadata": {},
   "source": [
    "Here we see that $4*t^2 + 4*t + 1$ is the inverse of $2t^2 + 4$. Let's solve the equation now. We can begin by multiplying both sides with $(2t^2 + 4)^{-1}$ which we have just found:\n",
    "\n",
    "$$\n",
    "x - (t^2 + 4t + 2) = (2t + 3)(4t^2 + 4t + 1)\n",
    "$$\n",
    "\n",
    "$$\n",
    "x - (t^2 + 4t + 2) = 3t^3 + 3t^2 + 2t + 2t^2 + 2t + 3 = 3t^3 + 4t + 3\n",
    "$$\n",
    "\n",
    "$$\n",
    "x = t^2 + 4t + 2 + 3t^3 + 4t + 3 = 3t^3 + t^2 + 3t\n",
    "$$\n",
    "\n",
    "Note that this is larger than our modulus with equal degree, so we have to find the remainder:"
   ]
  },
  {
   "cell_type": "code",
   "execution_count": 39,
   "metadata": {},
   "outputs": [
    {
     "name": "stdout",
     "output_type": "stream",
     "text": [
      "t^2 + 2\n"
     ]
    }
   ],
   "source": [
    "print(F5x([0, 3, 1, 3]) % F5x([1, 1, 0, 1]))"
   ]
  },
  {
   "cell_type": "markdown",
   "metadata": {},
   "source": [
    "\n",
    "We find $x = t^2 + 2$ as the solution.\n",
    "\n",
    "## Exercise 56\n",
    "\n",
    "> Consider the prime field $\\mathbb{F}_5$. Show that the polynomial $P = x^2 + 2$ from $\\mathbb{F}_5[X]$ is irreducible. Implement the finite field $\\mathbb{F}_{5^2}$ in Sage.\n",
    "\n",
    "Similar to exercise 54, we use Sage:\n"
   ]
  },
  {
   "cell_type": "code",
   "execution_count": 40,
   "metadata": {},
   "outputs": [
    {
     "name": "stdout",
     "output_type": "stream",
     "text": [
      "Finite Field in x of size 5^2 :\n",
      "  0\n",
      "  x + 4\n",
      "  3*x + 4\n",
      "  x\n",
      "  4*x + 3\n",
      "  4*x + 4\n",
      "  3\n",
      "  3*x + 2\n",
      "  4*x + 2\n",
      "  3*x\n",
      "  2*x + 4\n",
      "  2*x + 2\n",
      "  4\n",
      "  4*x + 1\n",
      "  2*x + 1\n",
      "  4*x\n",
      "  x + 2\n",
      "  x + 1\n",
      "  2\n",
      "  2*x + 3\n",
      "  x + 3\n",
      "  2*x\n",
      "  3*x + 1\n",
      "  3*x + 3\n",
      "  1\n"
     ]
    }
   ],
   "source": [
    "F5 = GF(5)\n",
    "F5x = F5[\"x\"]\n",
    "\n",
    "# is irreducible?\n",
    "P = F5x([2, 0, 1])\n",
    "is_irreducible = True\n",
    "for elem in F5:\n",
    "    if P(elem) == 0:\n",
    "        is_irreducible = False\n",
    "# also check Sage\n",
    "assert is_irreducible == P.is_irreducible()\n",
    "\n",
    "# print elements\n",
    "F5_2 = GF(5**2, name=\"x\", modulus=P)\n",
    "print(F5_2, \":\")\n",
    "for elem in F5_2:\n",
    "    print(\" \", elem)"
   ]
  },
  {
   "cell_type": "markdown",
   "metadata": {},
   "source": [
    "Another way to show that $P$ is irreducible would be to check that all evaluations of this polynomial are non-zero. In other words, we must show that $\\forall x \\in \\mathbb{F}_5 : x^2 + 2 \\ne 0$.\n",
    "\n",
    "This is equivalent to checking for $\\forall x \\in \\mathbb{F}_5 : x^2 \\ne 3$, which would be true if $3$ is a quadratic non-residue in this field. We can use Legendre Symbol to check for that:\n",
    "\n",
    "$$\n",
    "3^\\frac{5-1}{2} = 3^2 = 9 \\equiv 4 \\equiv -1 \\pmod{5}\n",
    "$$\n",
    "\n",
    "Finding -1 means that it is a quadratic non-residue, therefore $P$ is irreducible!"
   ]
  },
  {
   "cell_type": "markdown",
   "metadata": {},
   "source": [
    "## Exercise 57\n",
    "\n",
    "> Construct the so-called Fano Plane, i.e. the projective plane over the finite field $\\mathbb{F}_2$\n",
    "\n",
    "From the formula of number of elements $p^{2m} + p^m + 1$ for the projective plane over $\\mathbb{F}_{p^m}$, we know that $F_{2^1}$ should have $4 + 2 + 1 = 7$ points. Let's write each:\n",
    "\n",
    "```py\n",
    "   [0:0:0] (excluded)\n",
    "# affine points [X:Y:1]\n",
    "1. [0:0:1]\n",
    "2. [0:1:1]\n",
    "3. [1:0:1]\n",
    "4. [1:1:1]\n",
    "# points at infinity [X:Y:0]\n",
    "5. [0:1:0]\n",
    "6. [1:0:0]\n",
    "7. [1:1:0]\n",
    "```\n",
    "\n",
    "Notice that since $\\mathbb{F}_2^* = \\{1\\}$, we cant obtain another point from a given point, because we can only multiply the coordinate by 1.\n",
    "\n",
    "Double checking our results with Sage:"
   ]
  },
  {
   "cell_type": "code",
   "execution_count": 41,
   "metadata": {},
   "outputs": [
    {
     "name": "stdout",
     "output_type": "stream",
     "text": [
      "(0 : 0 : 1)\n",
      "(0 : 1 : 1)\n",
      "(1 : 0 : 1)\n",
      "(1 : 1 : 1)\n",
      "(0 : 1 : 0)\n",
      "(1 : 1 : 0)\n",
      "(1 : 0 : 0)\n"
     ]
    }
   ],
   "source": [
    "from sage.all import ProjectiveSpace\n",
    "\n",
    "for e in ProjectiveSpace(GF(2), 2):\n",
    "  print(e)"
   ]
  }
 ],
 "metadata": {
  "kernelspec": {
   "display_name": "sage",
   "language": "python",
   "name": "python3"
  },
  "language_info": {
   "codemirror_mode": {
    "name": "ipython",
    "version": 3
   },
   "file_extension": ".py",
   "mimetype": "text/x-python",
   "name": "python",
   "nbconvert_exporter": "python",
   "pygments_lexer": "ipython3",
   "version": "3.10.10"
  }
 },
 "nbformat": 4,
 "nbformat_minor": 2
}
