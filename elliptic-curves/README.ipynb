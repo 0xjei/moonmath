{
 "cells": [
  {
   "cell_type": "markdown",
   "metadata": {},
   "source": [
    "# Chapter 5: Elliptic Curves\n",
    "\n",
    "Also see this <https://curves.xargs.org/> for great animations, especially about Chord & Tangent rule. Furthermore, I have drawn the example TinyJubJub curves in WolframAlpha:\n",
    "\n",
    "- [Short Weierstrass](https://www.wolframalpha.com/input?i2d=true&i=Power%5By%2C2%5D%3DPower%5Bx%2C3%5D%2B+8x+%2B8+for+x%5C%2844%29y+in+GF%5C%2840%2913%5C%2841%29)\n",
    "- [Montgomery](https://www.wolframalpha.com/input?i2d=true&i=7Power%5By%2C2%5D%3DPower%5Bx%2C3%5D%2B6Power%5Bx%2C2%5D%2Bx+for+x%5C%2844%29+y+in+GF%5C%2840%2913%5C%2841%29)\n",
    "- [Twisted Edwards](https://www.wolframalpha.com/input?i2d=true&i=3Power%5Bx%2C2+%5D%2B+Power%5By%2C2%5D+%3D+1+%2B+8+Power%5Bx%2C2%5D+Power%5By%2C2%5D+for+x%5C%2844%29+y+in+GF%5C%2840%2913%5C%2841%29)\n",
    "\n",
    "Some commonly used curves in this section:\n",
    "\n",
    "- [alt_bn128](https://github.com/scipr-lab/libff/blob/master/libff/algebra/curves/alt_bn128/alt_bn128.sage)\n",
    "- [secp256k1](https://neuromancer.sk/std/secg/secp256k1)\n",
    "- [bls12-381](https://neuromancer.sk/std/bls/BLS12-381)\n",
    "\n",
    "## Exercise 58\n",
    "\n",
    "> Compute the set of all points $(x, y) \\in E_{1, 1}(\\mathbb{F}_5)$ from example 70.\n",
    "\n",
    "Using Sage, we can check for pairs of field elements that satisfy the curve equation. The set of all points is shown below, with the point at infinity included.\n"
   ]
  },
  {
   "cell_type": "code",
   "execution_count": 1,
   "metadata": {},
   "outputs": [
    {
     "name": "stdout",
     "output_type": "stream",
     "text": [
      "['O', (0, 1), (0, 4), (2, 1), (2, 4), (3, 1), (3, 4), (4, 2), (4, 3)]\n",
      "9 points\n"
     ]
    }
   ],
   "source": [
    "from sage.all import GF\n",
    "\n",
    "F5 = GF(5)\n",
    "points = [\"O\"]  # point at infinity\n",
    "for x in F5:\n",
    "    for y in F5:\n",
    "        if y**2 == x**3 + x + 1:\n",
    "            points.append((x, y))  # type: ignore\n",
    "print(points)\n",
    "print(len(points), \"points\")"
   ]
  },
  {
   "cell_type": "markdown",
   "metadata": {},
   "source": [
    "## Exercise 60\n",
    "\n",
    "> Look up the definition of curve BLS12-381, implement it in Sage, and compute the number of all curve points.\n"
   ]
  },
  {
   "cell_type": "code",
   "execution_count": 4,
   "metadata": {},
   "outputs": [
    {
     "name": "stdout",
     "output_type": "stream",
     "text": [
      "Base Field Order: (381 bits)\n",
      "4002409555221667393417789825735904156556882819939007885332058136124031650490837864442687629129015664037894272559787\n",
      "Scalar Field Order: (381 bits)\n",
      "4002409555221667393417789825735904156556882819939007885332058136124031650490837864442687629129030796414117214202539\n"
     ]
    }
   ],
   "source": [
    "from sage.all import EllipticCurve\n",
    "\n",
    "# https://neuromancer.sk/std/bls/BLS12-381\n",
    "p = 0x1A0111EA397FE69A4B1BA7B6434BACD764774B84F38512BF6730D2A0F6B0F6241EABFFFEB153FFFFB9FEFFFFFFFFAAAB\n",
    "E = EllipticCurve(GF(p), [0, 4])\n",
    "\n",
    "base_order, scalar_order = E.base_field().order(), E.order()\n",
    "print(\"Base Field Order: ({1} bits)\\n{0}\".format(base_order, base_order.nbits()))\n",
    "print(\"Scalar Field Order: ({1} bits)\\n{0}\".format(scalar_order, scalar_order.nbits()))"
   ]
  },
  {
   "cell_type": "markdown",
   "metadata": {},
   "source": [
    "The number of all curve points is given by the scalar field order, which is 4002409555221667393417789825735904156556882819939007885332058136124031650490837864442687629129030796414117214202539.\n",
    "\n",
    "## Exercise 61\n",
    "\n",
    "> Let $\\mathbb{F}$ be a finite field, let $(a, b)$ and $(a', b')$ be two pairs of parameters, and let $c \\in \\mathbb{F}^*$ be an invertible field element such that $a' = a \\cdot c^4$ and $b' = b \\cdot c^6$ hold. Show that the function $I$ from equation (5.3) maps curve points onto curve points.\n",
    "\n",
    "Let us write $x' := c^2 \\cdot x$ and $y' := c^3 \\cdot y$ as well as $a'$ and $b'$ in the curve equation:\n",
    "\n",
    "$$\n",
    "(c^3 \\cdot y)^2 = (c^2 \\cdot x)^3 + (c^4 \\cdot a)(c^2 \\cdot x) + (c^6 \\cdot b)\n",
    "$$\n",
    "\n",
    "$$\n",
    "c^6 \\cdot y^2 = c^6 \\cdot x^3 + c^6 \\cdot a \\cdot x + c^6 \\cdot b\n",
    "$$\n",
    "\n",
    "Notice how we have $c^6$ on both sides, and we are told that $c$ has a multiplicative inverse, and therefore we can compute $c^{-6} = (c^{-1})^6$ and multiply both sides with it to obtain:\n",
    "\n",
    "$$\n",
    "y^2 = x^3 + a \\cdot x + b\n",
    "$$\n",
    "\n",
    "which is our original curve equation, thus showing that the points are mapped onto curve points.\n",
    "\n",
    "## Exercise 62 ✨\n",
    "\n",
    "> Consider $TJJ_{13}$ example 71 and the curve $E_{7, 5}(\\mathbb{F}_{13})$ defined as follows:\n",
    ">\n",
    "> $$\n",
    "> E_{5, 7}(\\mathbb{F}_{13})\n",
    "> =    \\{(x, y) \\in \\mathbb{F}_{13} \\times \\mathbb{F}_{13}\n",
    "> \\mid y^2 = x^3 + 7x + 5\\}\n",
    "> $$\n",
    ">\n",
    "> Show that $TJJ_{13}$ and $E_{7, 5}(\\mathbb{F}_{13})$ are isomorphic. Compute the set of all points from $E_{7, 5}(\\mathbb{F}_{13})$, construct $I$ and map all points of $TJJ_{13}$ onto $E_{7, 5}(\\mathbb{F}_{13})$\n",
    "\n",
    "Let's remember the TinyJubJub curve over field of prime order 13:\n",
    "\n",
    "$$\n",
    "TJJ_{13} = \\{(x, y) \\in \\mathbb{F}_{13} \\times \\mathbb{F}_{13} \\mid y^2 = x^3 + 8x + 8\\}\n",
    "$$\n",
    "\n",
    "If we can find a $c \\in \\mathbb{F}_{13}^*$ such that $7 = 8 \\times c^4$ (for $a$) and $5 = 8 \\times c^6$ (for $b$); then, as shown in exercise 61, we would have an isomorphism and a mapping from TinyJubJub to the other curve.\n",
    "\n",
    "The inverse of 8 in this field is 5, so lets multiply both sides with it in both equations to obtain $9 = c^4$ and $12 = c^6$. From this, we get $12 = 9 \\times c^2$ and find $c^2 = 10$. Turns out that $6 \\times 6 \\equiv 10 \\pmod{13}$ so $c = 6$ is a square root, as well as $c = 13 - 6 = 7$ (which is the negative root).\n",
    "\n",
    "Equation (5.3) gives us the following isomorphism:\n",
    "\n",
    "$$\n",
    "I : TJJ_{13}(\\mathbb{F}_{13}) \\to E_{7, 5}(\\mathbb{F}_{13})  : \\begin{cases}\n",
    "(x, y) \\\\\n",
    "\\mathcal{O}\n",
    "\\end{cases}\n",
    "\n",
    "\\mapsto\n",
    "\n",
    "\\begin{cases}\n",
    "(10\\cdot x, 8\\cdot y) \\\\\n",
    "\\mathcal{O}\n",
    "\\end{cases}\n",
    "$$\n",
    "\n",
    "Let's use Sage to confirm this:\n"
   ]
  },
  {
   "cell_type": "code",
   "execution_count": 9,
   "metadata": {},
   "outputs": [],
   "source": [
    "from sage.all import EllipticCurve\n",
    "\n",
    "F13 = GF(13)\n",
    "TJJ = EllipticCurve(F13, [8, 8])\n",
    "E75 = EllipticCurve(F13, [7, 5])\n",
    "\n",
    "\n",
    "def I(xy):\n",
    "    return (xy[0] * F13(10), xy[1] * F13(8))\n",
    "\n",
    "\n",
    "TJJ_pts = [p.xy() for p in TJJ.points() if p != TJJ(0)]\n",
    "E75_pts = [p.xy() for p in E75.points() if p != E75(0)]\n",
    "I_TJJ_E75pts = [I(pt) for pt in TJJ_pts]\n",
    "assert sorted(I_TJJ_E75pts) == sorted(E75_pts)"
   ]
  },
  {
   "cell_type": "markdown",
   "metadata": {},
   "source": [
    "## Exercise 63\n",
    "\n",
    "> Consider the commutative group defined by the affine group law and TinyJubJub with base field $\\mathbb{F}_{13}$.\n",
    ">\n",
    "> 1. Compute the inverse of $(10, 10), \\mathcal{O}, (4, 0), (1, 2)$\n",
    "> 2. Solve the equation $x \\oplus (9, 4) = (5, 2)$ for some point $x$ on the curve.\n",
    "\n",
    "The inverse of $(x, y)$ is given by $(x, -y)$ unless the point is the point at infinity. So:\n",
    "\n",
    "- $-(10, 10) = (10, 3)$\n",
    "- $-\\mathcal{O} = \\mathcal{O}$\n",
    "- $-(4, 0) = (4, 0)$\n",
    "- $-(1, 2) = (1, 11)$\n",
    "\n",
    "Let us solve the equation, which can be shown as:\n",
    "\n",
    "$$\n",
    "x = (5, 2) \\oplus (9, 9)\n",
    "$$\n",
    "\n",
    "We will use the Chord rule to do this addition as the points are different. Letting $x = (x', y')$ for these equations:\n",
    "\n",
    "$$\n",
    "x' = \\left(\\frac{9-2}{9-5}\\right)^2 - 5 - 9 = 5 \\times 5 - 1 \\equiv 11 \\pmod{13}\n",
    "$$\n",
    "\n",
    "$$\n",
    "y' = \\left(\\frac{9-2}{9-5}\\right)(5 - 11) - 2 = 5 \\times 7 - 2 = 33 \\equiv 7 \\pmod{13}\n",
    "$$\n",
    "\n",
    "Our result is $x = (11, 7)$. We can confirm with Sage:\n"
   ]
  },
  {
   "cell_type": "code",
   "execution_count": 10,
   "metadata": {},
   "outputs": [
    {
     "data": {
      "text/plain": [
       "(11, 7)"
      ]
     },
     "execution_count": 10,
     "metadata": {},
     "output_type": "execute_result"
    }
   ],
   "source": [
    "from sage.all import EllipticCurve, GF\n",
    "\n",
    "E = EllipticCurve(GF(13), [8, 8])\n",
    "(E(5, 2) - E(9, 4)).xy()"
   ]
  },
  {
   "cell_type": "markdown",
   "metadata": {},
   "source": [
    "## Exercise 64\n",
    "\n",
    "> Consider example 79 and compute the set $\\{[1](0, 1), [2](0, 1), \\ldots, [8](0, 1), [9](0, 1)\\}$ using the tangent rule only.\n",
    "\n",
    "The curve in example 79 is $E_{1,1}(\\mathbb{F}_5)$ which has scalar order 9. Using tangent rule only means to use **doubling** only:\n",
    "\n",
    "$$\n",
    "\\begin{align*}\n",
    "    [1](0, 1) + [1](0, 1) = [2](0, 1) \\\\\n",
    "    [2](0, 1) + [2](0, 1) = [4](0, 1) \\\\\n",
    "    [4](0, 1) + [4](0, 1) = [8](0, 1) \\\\\n",
    "    [8](0, 1) + [8](0, 1) = [7](0, 1) \\\\\n",
    "    [7](0, 1) + [7](0, 1) = [5](0, 1) \\\\\n",
    "    [5](0, 1) + [5](0, 1) = [1](0, 1)\n",
    "\\end{align*}\n",
    "$$\n",
    "\n",
    "We got points at order 1, 2, 4, 5, 7, 8 but we are missing the ones at 3, 6. We can't find $[3](0, 1)$ or $[6](0, 1)$ without the Chord rule here, and this is not a surprise. As explained in example 79, our group has order 9 which factorizes as $9 = 3 \\times 3$. So, we expect to have 3 subgroups:\n",
    "\n",
    "- A subgroup of order 9 (the group itself).\n",
    "- A subgroup of order 3.\n",
    "- A subgroup of order 1 (trivial group).\n",
    "\n",
    "As you may notice, the points $[3](0, 1)$ and $[6](0, 1)$ are actually the elements within the subgroup of order 3. In other words, they belong to the logarithmic order:\n",
    "\n",
    "$$\n",
    "[3](0, 1) \\to [6](0, 1) \\to \\mathcal{O}\n",
    "$$\n",
    "\n",
    "When we do the doubling, these points give eachother:\n",
    "\n",
    "$$\n",
    "\\begin{align*}\n",
    "    [3](0, 1) + [3](0, 1) = [6](0, 1) \\\\\n",
    "    [6](0, 1) + [6](0, 1) = [3](0, 1)\n",
    "\\end{align*}\n",
    "$$\n",
    "\n",
    "## Exercise 65\n",
    "\n",
    "> Consider example 80 and compute the scalar multiplications $[10](5, 11)$ as well as $[10](9, 4)$ and $[4](9, 4)$ with pen and paper using the algorithm from exercise 38 (Efficient Scalar Multiplication).\n",
    "\n",
    "We can compute these as:\n",
    "\n",
    "- $[10](5, 11) = [2 \\times (2 \\times 1 + 1)](5, 11)$\n",
    "- $[10](9, 4) = [2 \\times (2 \\times 1 + 1)](9, 4)$\n",
    "- $[4](9, 4) = [2 \\times (2 \\times 1)](9, 4)$\n",
    "\n",
    "The question wants us to do this in pen-and-paper, but I will instead write the intermediate results in Sage below for us to verify results if we are to write them on paper:\n"
   ]
  },
  {
   "cell_type": "code",
   "execution_count": 11,
   "metadata": {},
   "outputs": [
    {
     "name": "stdout",
     "output_type": "stream",
     "text": [
      "(5 : 11 : 1)\n",
      "(7 : 11 : 1)\n",
      "(0 : 1 : 0)\n",
      "\n",
      "(9 : 4 : 1)\n",
      "(5 : 11 : 1)\n",
      "(4 : 0 : 1)\n",
      "\n",
      "(9 : 4 : 1)\n",
      "(7 : 11 : 1)\n",
      "\n"
     ]
    }
   ],
   "source": [
    "from sage.all import GF, EllipticCurve\n",
    "\n",
    "F13 = GF(13)\n",
    "TJJ = EllipticCurve(F13, [8, 8])\n",
    "\n",
    "\n",
    "def esm(P, k) -> int:\n",
    "    \"\"\"\n",
    "    Efficient Scalar Multiplication using \"double-and-add\"\n",
    "    for some curve point P and scalar k\n",
    "    \"\"\"\n",
    "    print(P)\n",
    "    ans = P - P  # 0\n",
    "    base = P\n",
    "    while k > 0:\n",
    "        if k & 1 == 1:\n",
    "            ans += base\n",
    "            print(ans)\n",
    "        base += base\n",
    "        k >>= 1\n",
    "    print(\"\")\n",
    "    return ans\n",
    "\n",
    "\n",
    "assert esm(TJJ(5, 11), 10) == TJJ(0)  # result from example 80\n",
    "assert esm(TJJ(9, 4), 10) == TJJ(4, 0)  # result from example 80\n",
    "assert esm(TJJ(9, 4), 4) == TJJ(7, 11)"
   ]
  },
  {
   "cell_type": "markdown",
   "metadata": {},
   "source": [
    "## Exercise 66\n",
    "\n",
    "> Consider example 81 and compute the set shown in equation (5.23) by inserting all points from the projective plane $\\mathbb{F}_5\\mathbb{P}^2$ into the defining projective Short Weierstrass equation.\n",
    "\n",
    "The equation that we have to satisfy over projective points is the following:\n",
    "\n",
    "$$\n",
    "\\forall (x, y, z) \\in [X : Y : Z] : y^2z = x^3 + 1\\cdot xz^2 + 1 \\cdot z^3\n",
    "$$\n",
    "\n",
    "Using Sage, we can try the equation with $z=1$, since we know there are not solutions for $z=0$ other than point at infinity:\n"
   ]
  },
  {
   "cell_type": "code",
   "execution_count": 13,
   "metadata": {},
   "outputs": [
    {
     "name": "stdout",
     "output_type": "stream",
     "text": [
      "[(0, 1, 1), (0, 4, 1), (2, 1, 1), (2, 4, 1), (3, 1, 1), (3, 4, 1), (4, 2, 1), (4, 3, 1)]\n"
     ]
    }
   ],
   "source": [
    "from sage.all import GF, EllipticCurve\n",
    "\n",
    "F5 = GF(5)\n",
    "E = EllipticCurve(F5, [1, 1])\n",
    "\n",
    "\n",
    "def eqn(x, y, z):\n",
    "    return y**2 * z == x**3 + x * z**2 + z**3\n",
    "\n",
    "\n",
    "affine_points = [p.xy() for p in E.points() if p != E(0)]\n",
    "proj_points = [(p[0], p[1], 1) for p in affine_points if eqn(p[0], p[1], F5(1))]\n",
    "print(proj_points)"
   ]
  },
  {
   "cell_type": "markdown",
   "metadata": {},
   "source": [
    "Alternatively, we can use `ProjectiveSpace` within Sage (thanks to [@skaunov](https://github.com/skaunov) for letting me know about `ProjectiveSpace` in issue [#1](https://github.com/erhant/moonmath/issues/1)):\n"
   ]
  },
  {
   "cell_type": "code",
   "execution_count": 49,
   "metadata": {},
   "outputs": [
    {
     "name": "stdout",
     "output_type": "stream",
     "text": [
      "[(0, 1, 1), (0, 4, 1), (2, 1, 1), (2, 4, 1), (3, 1, 1), (3, 4, 1), (4, 2, 1), (4, 3, 1), (0, 1, 0)]\n"
     ]
    }
   ],
   "source": [
    "from sage.all import GF, ProjectiveSpace\n",
    "\n",
    "F5 = GF(5)\n",
    "F5P2 = ProjectiveSpace(F5, 2)\n",
    "points = [(x, y, z) for (x, y, z) in F5P2 if (y**2) * z == x**3 + x * (z**2) + z**3]\n",
    "print(points)"
   ]
  },
  {
   "cell_type": "markdown",
   "metadata": {},
   "source": [
    "## Exercise 67 ✨\n",
    "\n",
    "> Compute the projective representation of the TinyJubJub curve with base field $\\mathbb{F}_{13}$. Then, print the logarithmic order of its large prime-order subgroup with respect to the generator $[ 7 : 11 : 1 ]$.\n",
    "\n",
    "Let's begin by finding the co-factor:\n"
   ]
  },
  {
   "cell_type": "code",
   "execution_count": 17,
   "metadata": {},
   "outputs": [],
   "source": [
    "from sage.all import GF, EllipticCurve, factor\n",
    "\n",
    "TJJ = EllipticCurve(GF(13), [8, 8])\n",
    "order = TJJ.order()\n",
    "factorization = factor(order)\n",
    "lpf = max(factorization)[0]  # largest-prime factor\n",
    "cf = order // lpf  # co-factor"
   ]
  },
  {
   "cell_type": "markdown",
   "metadata": {},
   "source": [
    "Now let's do co-factor clearing:\n"
   ]
  },
  {
   "cell_type": "code",
   "execution_count": 18,
   "metadata": {},
   "outputs": [],
   "source": [
    "Esub = set([p * cf for p in TJJ.points()])\n",
    "assert len(Esub) == lpf  # order should be equal to lpf"
   ]
  },
  {
   "cell_type": "markdown",
   "metadata": {},
   "source": [
    "Let's also make sure our generator for the exercise is in this subgroup:\n"
   ]
  },
  {
   "cell_type": "code",
   "execution_count": 19,
   "metadata": {},
   "outputs": [],
   "source": [
    "g = TJJ(7, 11)  # [7 : 11 : 1]\n",
    "assert g in Esub  # make sure it is in the subgroup"
   ]
  },
  {
   "cell_type": "markdown",
   "metadata": {},
   "source": [
    "We can then add the generator to itself many times to find the logarithmic order:\n"
   ]
  },
  {
   "cell_type": "code",
   "execution_count": 22,
   "metadata": {},
   "outputs": [
    {
     "name": "stdout",
     "output_type": "stream",
     "text": [
      "[(7 : 11 : 1), (8 : 5 : 1), (8 : 8 : 1), (7 : 2 : 1), (0 : 1 : 0)]\n",
      "5 elements\n"
     ]
    }
   ],
   "source": [
    "log_order = [g]\n",
    "for _ in range(1, lpf):\n",
    "    log_order.append(log_order[-1] + g)\n",
    "print(log_order)\n",
    "print(len(log_order), \"elements\")"
   ]
  },
  {
   "cell_type": "markdown",
   "metadata": {},
   "source": [
    "As expected from the large prime-order subgroup of $TJJ_{13}$ which has order 5, we see 5 elements.\n",
    "\n",
    "## Exercise 68\n",
    "\n",
    "> Consider example 81 again. Compute the following expressions for projective points $E_{1, 1}(\\mathbb{F}_5\\mathbb{P}^2)$ using algorithm 7.\n",
    ">\n",
    "> - $[0 : 1 : 0] \\oplus [4 : 3 : 1]$\n",
    "> - $[0 : 3 : 0] \\oplus [3 : 1 : 2]$\n",
    "> - $-[0 : 4 : 1] \\oplus [3 : 4 : 1]$\n",
    "> - $[4 : 3 : 1] \\oplus [4 : 2 : 1]$\n",
    ">\n",
    "> and then solve the equation $[X : Y : Z] \\oplus [0 : 1 : 1] = [2 : 4 : 1]$ for some point from the projective Short Weierstrass curve $E_{1, 1}(\\mathbb{F}_5\\mathbb{P}^2)$\n",
    "\n",
    "Let's explain each expression one by one:\n",
    "\n",
    "- The first expression here is actually addition with a point-at-infinity, so $[0 : 1 : 0] \\oplus [4 : 3 : 1] = [4 : 3 : 1]$ is straightforward.\n",
    "\n",
    "- At $[0 : 3 : 0] \\oplus [3 : 1 : 2]$ we can look at the point on the left hand-side a bit more carefully. Notice that $\\{3k \\mid k \\in \\mathbb{F}_5^\\ast\\} = \\{3, 1, 4, 2\\}$, so this projective point is the same as $[0 : 1 : 0]$ that is the point at infinity. We can simply say that $[0 : 3 : 0] \\oplus [3 : 1 : 2] = [3 : 1 : 2]$ in that case. We can find the answer for $Z=1$ as well, simply multiply the coordinates with 3 to get $[9 : 3 : 6] = [4 : 3 : 1]$.\n",
    "\n",
    "- $-[0 : 4 : 1] \\oplus [3 : 4 : 1]$ can be written as $[0 : 1 : 1] \\oplus [3 : 4 : 1]$ due to how additive inverse works in projective points. Then, let's look at first few variables in the Algorithm 7:\n",
    "\n",
    "$$\n",
    "\\begin{align*}\n",
    "U_1 &\\gets Y_2 \\cdot Z_1 &= 4 \\cdot 1 = 4 \\\\\n",
    "U_2 &\\gets Y_1 \\cdot Z_2 &= 1 \\cdot 1 = 1 \\\\\n",
    "V_1 &\\gets X_2 \\cdot Z_1 &= 3 \\cdot 1 = 3 \\\\\n",
    "V_2 &\\gets X_1 \\cdot Z_2 &= 0 \\cdot 1 = 0\n",
    "\\end{align*}\n",
    "$$\n",
    "\n",
    "We have $V_1 \\ne V_2$ so we apply the `else` branch at the bottom:\n",
    "\n",
    "$$\n",
    "\\begin{align*}\n",
    "U  &= U_1 − U_2 &= 4 - 1 = 3 \\\\\n",
    "V  &= V_1 − V_2 &= 3 - 0 = 3 \\\\\n",
    "W  &= Z_1 \\cdot Z_2 &= 1 \\cdot 1 = 1 \\\\\n",
    "A  &= U^2 \\cdot W − V^3 − 2 \\cdot V^2 \\cdot V_2 &= 3^2 \\cdot 1 - 3^3 - 2 \\cdot 3^2 \\cdot 0 = 4 - 2 = 2 \\\\\n",
    "X' &= V \\cdot A &= 3 \\cdot 2 = 1 \\\\\n",
    "Y' &= U \\cdot (V^2 \\cdot V_2 − A) − V^3 \\cdot U_2 &= 3 \\cdot (3^2 \\cdot 0 - 2) - 3^3 \\cdot 1 = - (3 \\cdot 2) - 3^3 = 4 - 2 = 2 \\\\\n",
    "Z' &= V^3 \\cdot W &= 3^3 \\cdot 1 = 2\n",
    "\\end{align*}\n",
    "$$\n",
    "\n",
    "We find the answer as $[X' : Y' : Z'] \\gets [1 : 2 : 2]$. We can have $Z=1$ by multiplying the values by 3, $[1 \\times 3 : 2 \\times 3 : 2 \\times 3] = [3 : 1 : 1]$.\n",
    "\n",
    "- $[4 : 3 : 1] \\oplus [4 : 2 : 1]$ is actually an operation of a point with its inverse, notice that $-[4 : 3 : 1] = [4 : -3 : 1] = [4 : 2 : 1]$, so the result of this operation is $[0 : 1 : 0]$ i.e. point-at-infinity.\n",
    "\n",
    "Let's verify our results with Sage:\n"
   ]
  },
  {
   "cell_type": "code",
   "execution_count": 2,
   "metadata": {},
   "outputs": [],
   "source": [
    "from sage.all import GF, EllipticCurve\n",
    "\n",
    "E = EllipticCurve(GF(5), [1, 1])\n",
    "\n",
    "assert E(0, 1, 0) + E(4, 3, 1) == E(4, 3, 1)\n",
    "assert E(0, 3, 0) + E(3, 1, 2) == E(4, 3, 1)\n",
    "assert -E(0, 4, 1) + E(3, 4, 1) == E(3, 1, 1)\n",
    "assert E(4, 3, 1) + E(4, 2, 1) == E(0, 1, 0)"
   ]
  },
  {
   "cell_type": "markdown",
   "metadata": {},
   "source": [
    "## Exercise 69\n",
    "\n",
    "> Compare the affine addition law for Short Weierstrass curves with the projective addition rule. Which branch in the projective branch corresponds to which case in the affine law?\n",
    "\n",
    "The first two if-else's handle the addition with neutral element (point at infinity) case. Then, we have a major branching after $V_1 = V_2$ check, which is true if $X_1 = X_2$. If $X$ coordinates match for two points, they are either the same point or on the opposite sides of the curve:\n",
    "\n",
    "- $U_1 \\ne U_2$ is true if these points are on the opposite sides, and we know this means $Y_1 = -Y_2$ and their addition results in $\\mathcal{O}$\n",
    "- $U_1 = U_2$ means this is the same point, and we apply the Tangent rule. However, there is one case where the tangent rule results in point at infinity, and that is when $Y = 0$ which is checked by $Y_1 = 0$ in the algorithm.\n",
    "\n",
    "Naturally, the remaining branch (where $V_1 \\ne V_2$) handles the Chord rule where we add two different points with different $X$ coordinates.\n",
    "\n",
    "## Exercise 70\n",
    "\n",
    "> Consider example 82 and compute the set in (5.30) by inserting every pair of field elements $(x, y) \\in \\mathbb{F}_{13} \\times \\mathbb{F}_{13}$ into the defining Montgomery equation.\n",
    "\n",
    "We use Sage to compute the set:\n"
   ]
  },
  {
   "cell_type": "code",
   "execution_count": 8,
   "metadata": {},
   "outputs": [
    {
     "name": "stdout",
     "output_type": "stream",
     "text": [
      "[(0, 0), (1, 4), (1, 9), (2, 4), (2, 9), (3, 5), (3, 8), (4, 4), (4, 9), (5, 1), (5, 12), (7, 1), (7, 12), (8, 1), (8, 12), (9, 2), (9, 11), (10, 3), (10, 10)]\n"
     ]
    }
   ],
   "source": [
    "from sage.all import GF, Set\n",
    "\n",
    "F13 = GF(13)\n",
    "B = F13(7)\n",
    "A = F13(6)\n",
    "points = []\n",
    "for x in F13:\n",
    "    for y in F13:\n",
    "        if B * (y**2) == (x**3) + A * (x**2) + x:\n",
    "            points.append((x, y))\n",
    "print(points)"
   ]
  },
  {
   "cell_type": "markdown",
   "metadata": {},
   "source": [
    "## Exercise 71\n",
    "\n",
    "> Consider $E_1(\\mathbb{F})$ from example 70 and show that this curve is not a Montgomery curve.\n",
    "\n",
    "The curve in example 70 is defined as the set of all pairs $(x, y)$ in $\\mathbb{F}_5$ that satisfy $y^2 = x^3 + x + 1$. One of the conditions for a Short Weierstrass curve to be a Montgomery curve is for it to have a scalar order divisible by 4. If we check that:\n"
   ]
  },
  {
   "cell_type": "code",
   "execution_count": 11,
   "metadata": {},
   "outputs": [
    {
     "name": "stdout",
     "output_type": "stream",
     "text": [
      "Not a Montgomery curve!\n"
     ]
    }
   ],
   "source": [
    "from sage.all import GF, EllipticCurve\n",
    "\n",
    "F5 = GF(5)\n",
    "a, b = 0, 1\n",
    "E1_F5 = EllipticCurve(F5, [a, b])\n",
    "if E1_F5.order() % 4 != 0:\n",
    "    print(\"Not a Montgomery curve!\")"
   ]
  },
  {
   "cell_type": "markdown",
   "metadata": {},
   "source": [
    "As we can see, the order of the scalar field is not divisible by 4, therefore $E_1(\\mathbb{F}_5)$ is not a Montgomery curve.\n",
    "\n",
    "## Exercise 72\n",
    "\n",
    "> Show that `secp256k1` is not a Montgomery curve.\n",
    "\n",
    "One of the conditions to be a Montogomery curve is that order of the scalar field should be divisible by 4.\n"
   ]
  },
  {
   "cell_type": "code",
   "execution_count": 12,
   "metadata": {},
   "outputs": [
    {
     "name": "stdout",
     "output_type": "stream",
     "text": [
      "Not a Montgomery curve!\n"
     ]
    }
   ],
   "source": [
    "from sage.all import GF, EllipticCurve\n",
    "\n",
    "# order of the base field\n",
    "p = 115792089237316195423570985008687907853269984665640564039457584007908834671663\n",
    "E = EllipticCurve(GF(p), [0, 7])\n",
    "\n",
    "if E.order() % 4 != 0:\n",
    "    print(\"Not a Montgomery curve!\")"
   ]
  },
  {
   "cell_type": "markdown",
   "metadata": {},
   "source": [
    "As we can see, the order of the scalar field is not divisible by 4, therefore `secp256k1` is not a Montgomery curve.\n",
    "\n",
    "## Exercise 73 ✨\n",
    "\n",
    "> Consider the commutative group defined by the Montgomery group law and TinyJubJub with base field $\\mathbb{F}_{13}$ in Montgomery form.\n",
    ">\n",
    "> - Compute the inverse of $(1, 9), \\mathcal{O}, (7, 12), (4, 9)$.\n",
    "> - Solve the equation $x \\oplus (3, 8) = (10, 3)$ for some point in the Montgomery curve.\n",
    ">\n",
    "> Finally, choose some point in the curve and test to see if it is a generator. If not, keep trying until you find one. Print out that generator point's logarithmic order.\n",
    "\n",
    "See the code [here](./montgomery.sage).\n",
    "\n",
    "## Exercise 74\n",
    "\n",
    "> Show that `alt_bn128` is not a Montgomery curve.\n",
    "\n",
    "One of the conditions to be a Montogomery curve is that order of the scalar field should be divisible by 4.\n"
   ]
  },
  {
   "cell_type": "code",
   "execution_count": 26,
   "metadata": {},
   "outputs": [],
   "source": [
    "from sage.all import EllipticCurve, GF\n",
    "\n",
    "# order of the base field\n",
    "p = 21888242871839275222246405745257275088696311157297823662689037894645226208583\n",
    "E = EllipticCurve(GF(p), [0, 3])\n",
    "assert E.order() % 4 != 0"
   ]
  },
  {
   "cell_type": "markdown",
   "metadata": {},
   "source": [
    "As we can see, the order is not divisible by 4, therefore `alt_bn128` is not a Montgomery curve.\n",
    "\n",
    "## Exercise 75 ✨\n",
    "\n",
    "> Consider the commutative group defined by the Twisted Edwards group law and TinyJubJub with base field $\\mathbb{F}_{13}$ in Twisted Edwards form.\n",
    ">\n",
    "> - Compute the inverse of $(1, 11), (0, 1), (3, 0), (5, 8)$.\n",
    "> - Solve the equation $x \\oplus (5, 8) = (1, 11)$ for some point in the Montgomery curve.\n",
    ">\n",
    "> Finally, choose some point in the curve and test to see if it is a generator. If not, keep trying until you find one. Print out that generator point's logarithmic order.\n",
    "\n",
    "We first implement a class for Twisted Edwards:\n"
   ]
  },
  {
   "cell_type": "code",
   "execution_count": 3,
   "metadata": {},
   "outputs": [],
   "source": [
    "from sage.all import GF, Set, FiniteFields\n",
    "\n",
    "\n",
    "class TwistedEdwardsCurve:\n",
    "    a = 0\n",
    "    d = 0\n",
    "    F: FiniteFields  # base field\n",
    "    points: set  # points in curve\n",
    "\n",
    "    def __init__(self, a, d, prime) -> None:\n",
    "        F = GF(prime)\n",
    "        self.a = F(a)\n",
    "        self.d = F(d)\n",
    "        self.F = F\n",
    "\n",
    "        # find all points, O(n^2)\n",
    "        affine_points = []\n",
    "        for x in F:\n",
    "            for y in F:\n",
    "                if self.in_curve((x, y)):\n",
    "                    affine_points.append((x, y))\n",
    "        self.points = Set(affine_points)\n",
    "\n",
    "    def __str__(self) -> str:\n",
    "        return \"{0} * x^2 + y^2 = 1 + {1} * x^2 * y^2\".format(self.a, self.d)\n",
    "\n",
    "    def add(self, P, Q):\n",
    "        \"\"\"Add points P and Q in the Twisted Edwards curve.\"\"\"\n",
    "        x1, x2, y1, y2 = P[0], Q[0], P[1], Q[1]\n",
    "\n",
    "        x3 = (x1 * y2 + y1 * x2) / (1 + self.d * x1 * x2 * y1 * y2)\n",
    "        y3 = (y1 * y2 - self.a * x1 * x2) / (1 - self.d * x1 * x2 * y1 * y2)\n",
    "        return (x3, y3)\n",
    "\n",
    "    def in_curve(self, P) -> bool:\n",
    "        \"\"\"Returns true if the given point is in curve.\"\"\"\n",
    "        return self.a * (P[0] ** 2) + (P[1] ** 2) == self.F(1) + self.d * (\n",
    "            P[0] ** 2\n",
    "        ) * (P[1] ** 2)\n",
    "\n",
    "    def inverse(self, P):\n",
    "        \"\"\"Inverts a point.\"\"\"\n",
    "        return (self.F.order() - P[0], P[1])\n",
    "\n",
    "    def point(self, x, y):\n",
    "        \"\"\"Return the a point in curve.\"\"\"\n",
    "        return (self.F(x), self.F(y))"
   ]
  },
  {
   "cell_type": "markdown",
   "metadata": {},
   "source": [
    "With that, we can solve our exercise:\n"
   ]
  },
  {
   "cell_type": "code",
   "execution_count": 22,
   "metadata": {},
   "outputs": [
    {
     "name": "stdout",
     "output_type": "stream",
     "text": [
      "\n",
      "Curve:\n",
      "3 * x^2 + y^2 = 1 + 8 * x^2 * y^2\n",
      "\n",
      "Part 1: Inverting points:\n",
      "(1, 11) --> (12, 11)\n",
      "(0, 1) --> (0, 1)\n",
      "(3, 0) --> (10, 0)\n",
      "(5, 8) --> (8, 8)\n",
      "\n",
      "Part 2: Solving x + (5, 8) = (1, 11)\n",
      "X: (11, 7)\n",
      "\n",
      "Part 3: Searching for a generator\n",
      "(11, 7) is a generator\n"
     ]
    }
   ],
   "source": [
    "# TinyJubJub parameters\n",
    "prime = 13\n",
    "a = 3\n",
    "d = 8\n",
    "TETJJ = TwistedEdwardsCurve(a, d, prime)\n",
    "print(\"\\nCurve:\")\n",
    "print(TETJJ)\n",
    "\n",
    "print(\"\\nPart 1: Inverting points:\")\n",
    "pointsToInvert = list(\n",
    "    map(lambda xy: TETJJ.point(xy[0], xy[1]), [(1, 11), (0, 1), (3, 0), (5, 8)])\n",
    ")\n",
    "inverses = list(map(lambda p: TETJJ.inverse(p), pointsToInvert))\n",
    "for p, ip in zip(pointsToInvert, inverses):\n",
    "    assert TETJJ.in_curve(ip)\n",
    "    print(\"{0} --> {1}\".format(p, ip))\n",
    "\n",
    "print(\"\\nPart 2: Solving x + (5, 8) = (1, 11)\")\n",
    "A, B = TETJJ.point(5, 8), TETJJ.point(1, 11)\n",
    "assert TETJJ.in_curve(A)\n",
    "assert TETJJ.in_curve(B)\n",
    "X = TETJJ.add(B, TETJJ.inverse(A))  # X = B + (-A)\n",
    "assert TETJJ.in_curve(X)\n",
    "print(\"X:\", X)\n",
    "\n",
    "print(\"\\nPart 3: Searching for a generator\")\n",
    "for point in points:\n",
    "    runner = point\n",
    "    i = 1\n",
    "    while i < (len(points) - 1):\n",
    "        if runner == (0, 1):\n",
    "            # print(\"{} is not a generator\".format(point))\n",
    "            i = 1\n",
    "            break\n",
    "        runner = TETJJ.add(\n",
    "            TETJJ.point(runner[0], runner[1]), TETJJ.point(point[0], point[1])\n",
    "        )\n",
    "        i += 1\n",
    "    if i == len(points) - 1:\n",
    "        assert TETJJ.add(runner, point) == (0, 1)\n",
    "        print(\"{} is a generator\".format(point))\n",
    "        break"
   ]
  },
  {
   "cell_type": "markdown",
   "metadata": {},
   "source": [
    "## Exercise 76\n",
    "\n",
    "> Consider the short Weierstrass curve $y^2 = x^3 + x + 1$ over extension field $\\mathbb{F}_{5^2}$. Compute $(4t + 3, 2t + 1) \\oplus (3t + 3, 2)$, and double-check the result in sage. Then, solve the equation $x \\oplus (3t + 3, 3) = (3, 4)$ for some $x$ in the curve. Also, compute $[5](2t + 1, 4t + 4)$.\n",
    "\n",
    "Here is the solution in Sage:\n"
   ]
  },
  {
   "cell_type": "code",
   "execution_count": 29,
   "metadata": {},
   "outputs": [
    {
     "name": "stdout",
     "output_type": "stream",
     "text": [
      "(4t+3, 2t+1) + (3t + 3, 2) = (0, 1)\n",
      "\n",
      "x + (3t + 3, 3) = (3, 4)\n",
      "x = (2*t + 2, t)\n",
      "\n",
      "[5](2t + 1, 4t + 4) = (2*t + 1, t + 1)\n"
     ]
    }
   ],
   "source": [
    "from sage.all import GF, EllipticCurve\n",
    "\n",
    "F5 = GF(5)  # field\n",
    "F5t = F5[\"t\"]  # polynomial ring\n",
    "P_MOD_2 = F5t([2, 0, 1])  # irreducible polynomial t^2 + 2\n",
    "\n",
    "# extension field\n",
    "F5_2 = GF(5**2, name=\"t\", modulus=P_MOD_2)\n",
    "\n",
    "# curve over extension field\n",
    "E1F5_2 = EllipticCurve(F5_2, [1, 1])\n",
    "\n",
    "print(\n",
    "    \"(4t+3, 2t+1) + (3t + 3, 2) =\",\n",
    "    (E1F5_2([3, 4], [1, 2]) + E1F5_2([3, 3], [2])).xy(),\n",
    ")\n",
    "print(\"\\nx + (3t + 3, 3) = (3, 4)\\nx =\", (E1F5_2([3], [4]) - E1F5_2([3, 3], [2])).xy())\n",
    "print(\"\\n[5](2t + 1, 4t + 4) =\", (5 * E1F5_2([1, 2], [4, 4])).xy())"
   ]
  },
  {
   "cell_type": "markdown",
   "metadata": {},
   "source": [
    "## Exercise 77\n",
    "\n",
    "> Consider TinyJubJub. Show that $t^4 + 2 \\in \\mathbb{F}_{13}[t]$ is irreducible.\n",
    ">\n",
    "> Then, write a sage program to implement the finite field extension $\\mathbb{F}_{13^4}$. Implement the curve extension in the extension field, and compute the number of curve points (i.e. order).\n",
    "\n",
    "Here is the solution in Sage:\n"
   ]
  },
  {
   "cell_type": "code",
   "execution_count": 30,
   "metadata": {},
   "outputs": [
    {
     "name": "stdout",
     "output_type": "stream",
     "text": [
      "Order of E(F_13^4): 28800\n"
     ]
    }
   ],
   "source": [
    "from sage.all import GF, EllipticCurve\n",
    "\n",
    "F13 = GF(13)  # field\n",
    "F13t = F13[\"t\"]  # polynomial ring\n",
    "P_MOD_4 = F13t([2, 0, 0, 0, 1])  # irreducible polynomial\n",
    "assert P_MOD_4.is_irreducible()\n",
    "\n",
    "# extension field\n",
    "F13_4 = GF(13**4, name=\"t\", modulus=P_MOD_4)\n",
    "\n",
    "# TinyJubJub over the extension field\n",
    "TJJ_F13_4 = EllipticCurve(F13_4, [8, 8])\n",
    "print(\"Order of E(F_13^4):\", TJJ_F13_4.order())"
   ]
  },
  {
   "cell_type": "markdown",
   "metadata": {},
   "source": [
    "## Exercise 78 ✨\n",
    "\n",
    "> Consider `alt_bn128` curve. We know from example 89 that this curve has embedding degree 12.\n",
    ">\n",
    "> - Use Sage to find an irreducible polynomial in $\\mathbb{F}_p[t]$\n",
    "> - Then compute the field extension $\\mathbb{F}_{p^{12}}$ to implement the curve extension of `alt_bn128`. Compute the number of curve points.\n",
    "\n",
    "Here is the solution in Sage:\n"
   ]
  },
  {
   "cell_type": "code",
   "execution_count": 5,
   "metadata": {},
   "outputs": [
    {
     "name": "stdout",
     "output_type": "stream",
     "text": [
      "Irreducible polynomial:\n",
      " t^12 + 7*t^11 + 15*t^10 + t^9 + 21888242871839275222246405745257275088696311157297823662689037894645226208558*t^8 + 24*t^7 + 152*t^6 + 208*t^5 + 184*t^4 + 144*t^3 + 78*t^2 + 51*t + 71\n",
      "Order of alt_bn128 extension:\n",
      " 12092909088188237225393433017559174875623137613219078327682045681675023350320878590139619158941453632724570634378148379186020109423506557278061404249513976103803771139954000579995199902828634263992330574392218791796266323480026479977659504287064359209036331389750395884727865805793574046154686347934603866375769645860851559671200189106819576945533990794197558448169154800495832790107673176422796675256499746815795625450299074794144048526198146639914021389804535306000613349331018514938275266778482547622423749922359770464262581875420752922397459498567293510559440917138825365277367270645144062796625014026162633826493618231042343006032299664580979412778040535526273331171632325988684368468515086899424261777185250498803406666234578372177228678748158811450716246172407259106389136866877568849564706281406613378690107119143771354767479053194532950000787048176486489212307035732283106982641546328096285628300491976754624\n"
     ]
    }
   ],
   "source": [
    "# curve parameters for alt_bn128\n",
    "p = 21888242871839275222246405745257275088696311157297823662689037894645226208583\n",
    "a, b = 0, 3\n",
    "\n",
    "FP = GF(p)  # field\n",
    "FPt = FP[\"t\"]  # polynomial ring\n",
    "\n",
    "k = 12  # embedding degree\n",
    "P_MOD_K = FPt.irreducible_element(k)  # an irreducible polynomial of degree k\n",
    "print(\"Irreducible polynomial:\\n\", P_MOD_K)\n",
    "\n",
    "# extension field\n",
    "FP_K = GF(p**k, name=\"t\", modulus=P_MOD_K)\n",
    "\n",
    "# curve over extension field\n",
    "E = EllipticCurve(FP_K, [a, b])\n",
    "\n",
    "print(\"Order of alt_bn128 extension:\\n\", E.order())"
   ]
  },
  {
   "cell_type": "markdown",
   "metadata": {},
   "source": [
    "## Exercise 79 ✨\n",
    "\n",
    "> Consider the full 5-torsion group $TJJ_{13}[5]$ from example 92.\n",
    ">\n",
    "> - Write down the set of all elements from this group, and identify the subset of all elements from $TJJ_{13}(\\mathbb{F}_{13})[5]$ as well as $TJJ_{13}(\\mathbb{F}_{13^2})[5]$.\n",
    "> - Then compute the 5-torsion group $TJJ_{13}(\\mathbb{F}_{13^8})[5]$.\n",
    "\n",
    "First, let's compute the full 5-torsion group $TJJ_{13}[5]$ as shown in the example. For a full $r$-torsion group, we need the curve defined over the extension field over a polynomial with degree equal to $k(r)$. We know from a previous example that $k(5) = 4$ so we will use a degree 4 polynomial.\n"
   ]
  },
  {
   "cell_type": "code",
   "execution_count": 33,
   "metadata": {},
   "outputs": [
    {
     "name": "stdout",
     "output_type": "stream",
     "text": [
      "Number of elements: 25\n"
     ]
    }
   ],
   "source": [
    "from sage.all import GF, EllipticCurve, Set\n",
    "\n",
    "F13 = GF(13)  # field\n",
    "F13t = F13[\"t\"]  # polynomial ring\n",
    "\n",
    "# degree 4 irreducible polynomial\n",
    "P_MOD_4 = F13t([2, 0, 0, 0, 1])\n",
    "assert P_MOD_4.is_irreducible()\n",
    "\n",
    "# extension field\n",
    "F13_4 = GF(13**4, name=\"t\", modulus=P_MOD_4)\n",
    "\n",
    "# curve over the extension\n",
    "TJJF13_4 = EllipticCurve(F13_4, [8, 8])\n",
    "\n",
    "# full 5-torsion group, that is the\n",
    "# set of points P such that [5]P == INF\n",
    "TJJF13_4_5 = Set(TJJF13_4(0).division_points(5))\n",
    "print(\"Number of elements:\", TJJF13_4_5.cardinality())  # 25"
   ]
  },
  {
   "cell_type": "markdown",
   "metadata": {},
   "source": [
    "From the definition of $r$-torsion groups, we know that the following holds:\n",
    "\n",
    "$$\n",
    "TJJ_{13}(\\mathbb{F}_{13})[5] = TJJ_{13}(\\mathbb{F}_{13^2})[5] \\subset TJJ_{13}(\\mathbb{F}_{13^4})[5] = TJJ_{13}(\\mathbb{F}_{13^8})[5]\n",
    "$$\n",
    "\n",
    "Remember that this is because 4 is the embedding degree. So, with our code so far we have already computed the 5-torsion group $TJJ_{13}(\\mathbb{F}_{13^8})[5]$. We can compute the other one over the curve itself, without the field extension.\n"
   ]
  },
  {
   "cell_type": "code",
   "execution_count": 36,
   "metadata": {},
   "outputs": [
    {
     "name": "stdout",
     "output_type": "stream",
     "text": [
      "Number of elements: 5\n",
      "{(7 : 11 : 1), (0 : 1 : 0), (8 : 8 : 1), (7 : 2 : 1), (8 : 5 : 1)}\n"
     ]
    }
   ],
   "source": [
    "# curve over the field\n",
    "TJJ = EllipticCurve(F13, [8, 8])\n",
    "\n",
    "# 5-torsion group\n",
    "TJJ_5 = Set(TJJ(0).division_points(5))\n",
    "print(\"Number of elements:\", TJJ_5.cardinality())  # 5\n",
    "print(TJJ_5)"
   ]
  },
  {
   "cell_type": "markdown",
   "metadata": {},
   "source": [
    "## Exercise 80\n",
    "\n",
    "> Consider `secp256k1` curve and it's full $r$-torsion group. Write down a single element from the curve's full torsion group that is not the point at infinity.\n",
    "\n",
    "In example 93, we learn the following:\n",
    "\n",
    "> ..., without any optimizations, representing such an element would need $k \\cdot 256$ bits, which is too much to be representable in the observable universe. It follows that it is not only infeasible to compute the full $r$-torsion group of $\\text{secp256k1}$, but moreover to even write down single elements of that group in general.\n",
    "\n",
    "So, the question boils down to some optimization. Futher in the exercise 96 at the end of next section, it mentions the following:\n",
    "\n",
    "> ... according to example 93 we can not store average curve points from the extension curve $\\text{secp256k1}(F_{p^k})$ on any computer, ...\n",
    "\n",
    "We are looking for a point other than the point at infinity, and with the knowledge we have so far that seems to be impossible.\n",
    "\n",
    "However, we could maybe find a value from the curve itself instead of an extension field, which would be in the full $r$-torsion group due to the subset rule. Also note that $r$ here is equal to the scalar order, because the scalar order of `secp256k1` is a prime meaning that the order itself is the largest prime factor.\n"
   ]
  },
  {
   "cell_type": "code",
   "execution_count": 37,
   "metadata": {},
   "outputs": [],
   "source": [
    "from sage.all import GF, EllipticCurve, is_prime\n",
    "\n",
    "p = 115792089237316195423570985008687907853269984665640564039457584007908834671663\n",
    "E = EllipticCurve(GF(p), [0, 7])\n",
    "INF = E(0)\n",
    "# embedding degree\n",
    "k = 19298681539552699237261830834781317975472927379845817397100860523586360249056\n",
    "\n",
    "# order of scalar field\n",
    "q = E.order()\n",
    "assert is_prime(q)\n",
    "\n",
    "# largest prime factor is the order itself\n",
    "r = q.factor()[0][0]\n",
    "assert q == r\n",
    "\n",
    "# try for some random points\n",
    "for _ in range(200):\n",
    "    assert E.random_point() * r == INF"
   ]
  },
  {
   "cell_type": "markdown",
   "metadata": {},
   "source": [
    "Indeed any point within the original curve is a member of the torsion group $E(\\mathbb{F}_p)[r]$ and we know that this is a subset of the full-torsion group!\n",
    "\n",
    "## Exercise 81 🔴\n",
    "\n",
    "> Consider `alt_bn128` curve and and it's full $r$-torsion group. Write a Sage program that computes a generator from the curve's full torsion group.\n",
    "\n",
    "First of all, we should notice that $r$ is equal to the order of the scalar field of `alt_bn128` since that order is a prime and it is the largest prime factor on its own. We also know from example 89 that this curve has an embedding degree of 12. So, we must compute the curve over the extension field with a degree 12 polynomial. Let's do that in Sage:\n"
   ]
  },
  {
   "cell_type": "code",
   "execution_count": 7,
   "metadata": {},
   "outputs": [],
   "source": [
    "# curve parameters for alt_bn128\n",
    "p = 21888242871839275222246405745257275088696311157297823662689037894645226208583\n",
    "a, b = 0, 3\n",
    "\n",
    "FP = GF(p)  # field\n",
    "FPt = FP[\"t\"]  # polynomial ring\n",
    "\n",
    "# curve over the base field\n",
    "E = EllipticCurve(FP, [a, b])\n",
    "\n",
    "# an irreducible polynomial of degree k\n",
    "k = 12  # embedding degree\n",
    "P_MOD_K = FPt.irreducible_element(k)\n",
    "assert P_MOD_K.is_irreducible()\n",
    "\n",
    "# extension field\n",
    "FP_K = GF(p**k, name=\"t\", modulus=P_MOD_K)\n",
    "\n",
    "# curve over extension field\n",
    "E_K = EllipticCurve(FP_K, [a, b])\n",
    "\n",
    "# largest prime factor is the order itself\n",
    "r = q.factor()[0][0]\n",
    "assert q == r\n",
    "\n",
    "# try for some random points\n",
    "INF = E_K(0)\n",
    "for _ in range(200):\n",
    "    assert E_K.random_point() * r == INF"
   ]
  },
  {
   "cell_type": "markdown",
   "metadata": {},
   "source": [
    "## Exercise 82\n",
    "\n",
    "> Consider the small prime factor 2 of the TinyJubJub curve. Compute the full 2-torsion group of $TJJ_{13}$ and then compute the groups $\\mathbb{G}_1[2]$ and $\\mathbb{G}_2[2]$.\n",
    "\n",
    "First, let's find the embedding degree $k(2)$ for this curve.\n"
   ]
  },
  {
   "cell_type": "code",
   "execution_count": 46,
   "metadata": {},
   "outputs": [
    {
     "name": "stdout",
     "output_type": "stream",
     "text": [
      "Embedding degree: 1\n"
     ]
    }
   ],
   "source": [
    "from sage.all import GF, EllipticCurve, Set\n",
    "\n",
    "# order of the base field for TJJ\n",
    "p = 13\n",
    "F13 = GF(p)\n",
    "TJJ = EllipticCurve(F13, [8, 8])\n",
    "\n",
    "# order of the curve's scalar field\n",
    "n = TJJ.order()\n",
    "# small prime factor\n",
    "r = 2\n",
    "assert n % r == 0\n",
    "\n",
    "# find embedding degree\n",
    "k = 1\n",
    "while k < r:\n",
    "    if (p**k - 1) % r == 0:\n",
    "        break\n",
    "    k += 1\n",
    "print(\"Embedding degree:\", k)"
   ]
  },
  {
   "cell_type": "markdown",
   "metadata": {},
   "source": [
    "We find the embedding degree to be 1. In fact, you can immediately say that the embedding degree is 1, because notice that following operation in the congruence:\n",
    "\n",
    "$$\n",
    "13^k - 1 \\bmod{2}\n",
    "$$\n",
    "\n",
    "We are looking for the smallest $k$ that results in 0 for the above operation, and it is obvious that $13-1$ is an even number and thus $k=1$. We also know this result from example 87 by the way.\n",
    "\n",
    "Yet another argument is that an embedding degree $1 \\leq k < r$ is guaranteed for the prime order due to FLT, and we can only have $k=1$ for $r=2$ anyways.\n",
    "\n",
    "To compute the **full** 2-torsion group, we need to find the 2-torsion group of the curve over field extension with order $p^{k(2)}$. We have just shown that $k(2) = 1$, so it turns out that our original curve serves the purpose to find the full torsion group! We can simply choose points $P$ such that $[2]P = \\mathcal{O}$ using Sage:\n"
   ]
  },
  {
   "cell_type": "code",
   "execution_count": 47,
   "metadata": {},
   "outputs": [
    {
     "name": "stdout",
     "output_type": "stream",
     "text": [
      "2-torsion group:\n",
      "{(4 : 0 : 1), (0 : 1 : 0)}\n"
     ]
    }
   ],
   "source": [
    "# full r-torsion group, using the original curve\n",
    "TJJ_1_tor = Set(TJJ(0).division_points(r))\n",
    "print(\"{}-torsion group:\".format(r))\n",
    "print(TJJ_1_tor)"
   ]
  },
  {
   "cell_type": "markdown",
   "metadata": {},
   "source": [
    "We would expect $r^2$ elements (i.e. 4) in the full-torsion group, which is NOT the case here! After lengthy discussions with @bufferhe4d and his further discussions with more people, we have come to conclusion that the $r^2$ requirement is not strict when $k=1$. In some cases, we can have $r$ elements.\n",
    "\n",
    "Let's compute the pairing groups now:\n"
   ]
  },
  {
   "cell_type": "code",
   "execution_count": 9,
   "metadata": {},
   "outputs": [
    {
     "ename": "NameError",
     "evalue": "name 'TJJ' is not defined",
     "output_type": "error",
     "traceback": [
      "\u001b[0;31m---------------------------------------------------------------------------\u001b[0m",
      "\u001b[0;31mNameError\u001b[0m                                 Traceback (most recent call last)",
      "Cell \u001b[0;32mIn[9], line 1\u001b[0m\n\u001b[0;32m----> 1\u001b[0m INF \u001b[38;5;241m=\u001b[39m \u001b[43mTJJ\u001b[49m(\u001b[38;5;241m0\u001b[39m)  \u001b[38;5;66;03m# point at infinity\u001b[39;00m\n\u001b[1;32m      4\u001b[0m \u001b[38;5;28;01mdef\u001b[39;00m \u001b[38;5;21mfro_pi\u001b[39m(P):\n\u001b[1;32m      5\u001b[0m     \u001b[38;5;28;01mif\u001b[39;00m P \u001b[38;5;241m!=\u001b[39m INF:\n",
      "\u001b[0;31mNameError\u001b[0m: name 'TJJ' is not defined"
     ]
    }
   ],
   "source": [
    "INF = TJJ(0)  # point at infinity\n",
    "\n",
    "\n",
    "def fro_pi(P):\n",
    "    if P != INF:\n",
    "        (x, y) = P.xy()\n",
    "        return TJJ(x**p, y**p)\n",
    "    else:\n",
    "        return P\n",
    "\n",
    "\n",
    "G1 = [P for P in TJJ_1_tor if fro_pi(P) == P]\n",
    "print(\"G1:\", G1)\n",
    "# {(4 : 0 : 1), (0 : 1 : 0)}\n",
    "\n",
    "G2 = [P for P in TJJ_1_tor if fro_pi(P) == p * P]\n",
    "print(\"G2:\", G1)"
   ]
  },
  {
   "cell_type": "markdown",
   "metadata": {},
   "source": [
    "Regarding the remark above about finding $r$ elements instead of $r^2$, there is also another thing to mention. If you find the 2-torsion group of TJJ over $\\mathbb{F}_{p^4}$ you do actually get $r^2$ elements. 4 is the first time this happens, where the torsion group has 2 elements up until this point and has 4 elements beyond this point.\n",
    "\n",
    "This would be in-line with (5.44) in the book; however, 4 is not the embedding degree for $r=2$ in this case.\n",
    "\n",
    "Regardless of this fact, the pairing groups for the torsion group at $k=4$ is equal to the pairing groups computed for $k=1$ in this exercise!\n",
    "\n",
    "> See this [code](./pairings.sage) here for a better presentation of this exercise. I have opened an issue about this exercise and the things discussed in particular: [see here](https://github.com/LeastAuthority/moonmath-manual/issues/84).\n",
    "\n",
    "## Exercise 83 🔴\n",
    "\n",
    "> Consider `alt_bn128` curve and and it's curve extension. Write a Sage program that computes a generator for each of the torsion group $\\mathbb{G}_1[p]$ and $\\mathbb{G}_2[p]$.\n",
    "\n",
    "TODO\n"
   ]
  },
  {
   "cell_type": "markdown",
   "metadata": {},
   "source": [
    "## Exercise 84 🔴\n",
    "\n",
    "> Consider the `alt_bn128` curve from example 73, and the generators $g_1$ and $g_2$ of $\\mathbb{G}_1[p]$ and $\\mathbb{G}_2[p]$ from exercise 83. Write a Sage program that computes the Weil pairing $e(g_1, g_2)$\n",
    "\n",
    "First, let's see how the pairing is computed, as shown in example 87:\n"
   ]
  },
  {
   "cell_type": "code",
   "execution_count": 8,
   "metadata": {},
   "outputs": [
    {
     "name": "stdout",
     "output_type": "stream",
     "text": [
      "      P: (7, 2)\n",
      "      Q: (9*t^2 + 7, 12*t^3 + 2*t)\n",
      "e(P, Q): 7*t^3 + 7*t^2 + 6*t + 3\n"
     ]
    }
   ],
   "source": [
    "from sage.all import GF, EllipticCurve\n",
    "\n",
    "# field of TJJ\n",
    "F13 = GF(13)\n",
    "F13t = F13[\"t\"]\n",
    "\n",
    "# extension field over t^4 + 2\n",
    "P_MOD_4 = F13t([2, 0, 0, 0, 1])  # t^4 + 2\n",
    "F13_4 = GF(13**4, name=\"t\", modulus=P_MOD_4)\n",
    "\n",
    "# curve over extension field\n",
    "TJJF13_4 = EllipticCurve(F13_4, [8, 8])\n",
    "P = TJJF13_4([7, 2])\n",
    "print(\"      P:\", P.xy())\n",
    "\n",
    "Q = TJJF13_4([F13t([7, 0, 9]), F13t([0, 2, 0, 12])])  # 9t^2 + 7  # 12t^3 + 2t\n",
    "print(\"      Q:\", Q.xy())\n",
    "\n",
    "ans = P.weil_pairing(Q, 5)\n",
    "print(\"e(P, Q):\", ans)"
   ]
  },
  {
   "cell_type": "markdown",
   "metadata": {},
   "source": [
    "Now, lets do the same thing but for the group that is given in our exercise:\n",
    "\n",
    "TODO: do the exercise here\n"
   ]
  },
  {
   "cell_type": "markdown",
   "metadata": {},
   "source": [
    "## Exercise 85\n",
    "\n",
    "> Use our definition of the `try-hash` algorithm to implement a hash function $H_{TJJ[5]} : \\{0, 1\\}^\\ast \\to TJJ(\\mathbb{F}_{13})[5]$ that maps binary strings of arbitrary length onto the 5-torsion group of $TJJ(\\mathbb{F}_{13})[5]$\n",
    "\n",
    "I didn't like the example implementation much, so I will implement the more generic function (the one defined in Algorithm 9) below, and use it for this exercise.\n"
   ]
  },
  {
   "cell_type": "code",
   "execution_count": 23,
   "metadata": {},
   "outputs": [
    {
     "name": "stdout",
     "output_type": "stream",
     "text": [
      "(8 : 8 : 1)\n"
     ]
    }
   ],
   "source": [
    "from sage.all import ZZ, GF\n",
    "from hashlib import sha256\n",
    "\n",
    "\n",
    "def try_and_increment(s, E):\n",
    "    \"\"\"Hash `s` into a curve point on `E`.\"\"\"\n",
    "    c = -1\n",
    "\n",
    "    # order of base field & curve params\n",
    "    p = E.base_field().order()\n",
    "    a, b = E.a4(), E.a6()\n",
    "\n",
    "    # number of bits of p\n",
    "    k = len(p.bits())\n",
    "    while True:\n",
    "        c += 1\n",
    "        # compute sha256 of `s || bits(c)`\n",
    "        sc: str = s + bin(c)[2:]\n",
    "        digest: str = sha256(sc.encode(\"utf-8\")).hexdigest()\n",
    "\n",
    "        # cast the digest into integer & get (k+1)-bit representation\n",
    "        bits = ZZ(digest, 16).digits(base=2, padto=k + 1)\n",
    "\n",
    "        # map to a number (x-coord) using k bits\n",
    "        x = 0\n",
    "        for i, bit in enumerate(bits[:k]):\n",
    "            x += bit * (2**i)\n",
    "        if x >= p:\n",
    "            # if x is too large, try again\n",
    "            continue\n",
    "\n",
    "        # find y^2 via the curve equation\n",
    "        x = E.base_field()(x)\n",
    "        yy = x**3 + a * x + b\n",
    "        if not yy.is_square():\n",
    "            # if yy is not a square root, try again\n",
    "            continue\n",
    "        y = yy.sqrt()\n",
    "\n",
    "        if bits[k] == 0:\n",
    "            # if auxiliary bit is 0, use the positive root\n",
    "            return E(x, y)\n",
    "        else:\n",
    "            # if auxiliary bit is 1, use the negative root\n",
    "            return E(x, -y)\n",
    "\n",
    "\n",
    "# example\n",
    "TJJ = EllipticCurve(GF(13), [8, 8])\n",
    "print(try_and_increment(\"lorem ipsum\", E))"
   ]
  },
  {
   "cell_type": "markdown",
   "metadata": {},
   "source": [
    "The function above can map any string into a curve point. In the exercise, we not only need to hash to a curve point but then also map this point onto the 5-torsion group of TJJ. Remember that TJJ had 20 points, and $20 = 5 \\times 4$ so we can do co-factor clearing by multiplying the point with 4.\n"
   ]
  },
  {
   "cell_type": "code",
   "execution_count": 24,
   "metadata": {},
   "outputs": [
    {
     "name": "stdout",
     "output_type": "stream",
     "text": [
      "(8, 5)\n"
     ]
    }
   ],
   "source": [
    "def hash_to_tjj_13_5(s: str):\n",
    "    TJJ = EllipticCurve(GF(13), [8, 8])\n",
    "    P = try_and_increment(s, TJJ)\n",
    "    return 4 * P\n",
    "\n",
    "\n",
    "P = hash_to_tjj_13_5(\"lorem ipsum\")\n",
    "print(P.xy())\n",
    "\n",
    "# [5]P == INF if P is in 5-torsion group\n",
    "assert P * 5 == 0"
   ]
  },
  {
   "cell_type": "markdown",
   "metadata": {},
   "source": [
    "## Exercise 86\n",
    "\n",
    "> Implement a cryptographic hash function $H_{\\text{secp256k1}} : \\{0, 1\\}^* \\to \\text{secp256k1}$ that maps binary strings of arbitrary length onto the elliptic curve `secp256k1`.\n",
    "\n",
    "We will make use of the `try_and_increment` function implemented in the previous exercise.\n"
   ]
  },
  {
   "cell_type": "code",
   "execution_count": 25,
   "metadata": {},
   "outputs": [
    {
     "name": "stdout",
     "output_type": "stream",
     "text": [
      "(98592660300306139108217934677605000680670471692090637702610446742601439054516, 10944968578626111729072870382098433009590240719021050603286881666265231643137)\n"
     ]
    }
   ],
   "source": [
    "from sage.all import GF, EllipticCurve\n",
    "\n",
    "\n",
    "def hash_to_secp256k1(s: str):\n",
    "    # parameters for secp256k1\n",
    "    p = 115792089237316195423570985008687907853269984665640564039457584007908834671663\n",
    "    a, b = 0, 7\n",
    "\n",
    "    Fp = GF(p)\n",
    "    E = EllipticCurve(Fp, [a, b])\n",
    "\n",
    "    P = try_and_increment(s, E)\n",
    "    return P\n",
    "\n",
    "\n",
    "P = hash_to_secp256k1(\"lorem ipsum\")\n",
    "print(P.xy())"
   ]
  },
  {
   "cell_type": "markdown",
   "metadata": {},
   "source": [
    "## Exercise 87\n",
    "\n",
    "> Consider `alt_bn128` curve. Write a Sage program that computes the trace of Frobenius for `alt_bn128`. Does the curve contain more or less elements than its base field $\\mathbb{F}_p$?\n",
    "\n",
    "Using Sage:\n"
   ]
  },
  {
   "cell_type": "code",
   "execution_count": 55,
   "metadata": {},
   "outputs": [
    {
     "name": "stdout",
     "output_type": "stream",
     "text": [
      "147946756881789318990833708069417712967\n",
      "curve contains less elements than Fp\n"
     ]
    }
   ],
   "source": [
    "from sage.all import GF, EllipticCurve\n",
    "\n",
    "# curve parameters\n",
    "p = 21888242871839275222246405745257275088696311157297823662689037894645226208583\n",
    "a, b = 0, 3\n",
    "Fp = GF(p)\n",
    "E = EllipticCurve(Fp, [a, b])\n",
    "\n",
    "# order of the scalar field\n",
    "q = E.order()\n",
    "\n",
    "# trace of Frobenius\n",
    "t = p + 1 - q\n",
    "print(t)\n",
    "\n",
    "if q < p:\n",
    "    print(\"curve contains less elements than Fp\")\n",
    "else:\n",
    "    print(\"curve contains more elements than Fp\")"
   ]
  },
  {
   "cell_type": "markdown",
   "metadata": {},
   "source": [
    "We see that the curve `alt_bn128` contains less elements than its base field.\n",
    "\n",
    "## Exercise 88 🔴\n",
    "\n",
    "> Consider `alt_bn128` curve. Write a Sage program that computes the $j$-invariant for `alt_bn128`.\n",
    "\n",
    "TODO\n",
    "\n",
    "## Exercise 89 🔴\n",
    "\n",
    "> Show that the Hilbert class polynomials for the CM-discriminants $D = -3$ and $D = -4$ are given by $H_{-3, q}(x) = x$ and $H_{-4, q}(x) = x - (1728 \\bmod{q})$\n",
    "\n",
    "TODO\n",
    "\n",
    "## Exercise 90 🔴\n",
    "\n",
    "> Use the complex multiplication method to construct an elliptic curve of order 7 over the prime field $\\mathbb{F}_{13}$\n",
    "\n",
    "TODO\n",
    "\n",
    "## Exercise 91 🔴\n",
    "\n",
    "> Use the complex multiplication method to compute all isomorphism classes of all elliptic curves of order 7 over the prime field $\\mathbb{F}_{13}$\n",
    "\n",
    "TODO\n",
    "\n",
    "## Exercise 92 🔴\n",
    "\n",
    "> Consider the prime modulus $p$ of curve `alt_bn128` from example 73, and its trace $t$ from exercise 92. Use the complex multiplication method to synthesize an elliptic curve over $F_p$ that is isomorphic to `alt_bn128` and compute an explicit isomorphism between these two curves.\n",
    "\n",
    "TODO\n",
    "\n",
    "## Exercise 93 🔴\n",
    "\n",
    "> Consider the point $P = (9, 2)$. Show that $P$ is a point on the `BLS6_6` curve and compute the scalar product $[3]P$\n",
    "\n",
    "TODO\n",
    "\n",
    "## Exercise 94 🔴\n",
    "\n",
    "> Compute the following expressions:\n",
    ">\n",
    "> - $-(26, 34)$\n",
    "> - $(26, 9) \\oplus (13, 28)$\n",
    "> - $(35, 15) \\oplus \\mathcal{O}$\n",
    "> - $(27, 9) \\oplus (33, 9)$\n",
    "\n",
    "TODO\n",
    "\n",
    "## Exercise 95 🔴\n",
    "\n",
    "> Consider the extended `BLS6_6` curve as defined in 5.67 and the two curve points $g1 = (13, 15)$ and $g2 = (7v^2, 16v^3)$. Compute the Weil pairing $e(g1, g2)$ using definition 5.49 and Miller's algorithm.\n",
    "\n",
    "TODO\n"
   ]
  }
 ],
 "metadata": {
  "kernelspec": {
   "display_name": "sage",
   "language": "python",
   "name": "python3"
  },
  "language_info": {
   "codemirror_mode": {
    "name": "ipython",
    "version": 3
   },
   "file_extension": ".py",
   "mimetype": "text/x-python",
   "name": "python",
   "nbconvert_exporter": "python",
   "pygments_lexer": "ipython3",
   "version": "3.10.10"
  }
 },
 "nbformat": 4,
 "nbformat_minor": 2
}
